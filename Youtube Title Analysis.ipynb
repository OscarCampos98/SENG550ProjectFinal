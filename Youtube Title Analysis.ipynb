{
 "cells": [
  {
   "cell_type": "code",
   "execution_count": 0,
   "metadata": {
    "application/vnd.databricks.v1+cell": {
     "cellMetadata": {
      "byteLimit": 2048000,
      "rowLimit": 10000
     },
     "inputWidgets": {},
     "nuid": "d59e7aac-d8d4-42a7-bf0d-c1cd69636fcb",
     "showTitle": false,
     "title": ""
    }
   },
   "outputs": [],
   "source": [
    "#/FileStore/tables/CA_youtube_trending_data.csv\n",
    "import os.path\n",
    "baseDir = os.path.join('.')\n",
    "inputPath1 = os.path.join( '/FileStore/tables/Cateogry1Data-2.csv')\n",
    "fileName1 = os.path.join(baseDir, inputPath1)\n",
    "\n",
    "CA_youtube_RDD = sc.textFile(fileName1,2)"
   ]
  },
  {
   "cell_type": "code",
   "execution_count": 0,
   "metadata": {
    "application/vnd.databricks.v1+cell": {
     "cellMetadata": {
      "byteLimit": 2048000,
      "rowLimit": 10000
     },
     "inputWidgets": {},
     "nuid": "0432e59f-76f5-455c-bc0c-039d44c09029",
     "showTitle": false,
     "title": ""
    }
   },
   "outputs": [
    {
     "output_type": "stream",
     "name": "stdout",
     "output_type": "stream",
     "text": [
      "15614\n['video_id,title,categoryId,view_count,likes,dislikes,comment_count,thumbnail_link,comments_disabled,ratings_disabled,description']\n"
     ]
    }
   ],
   "source": [
    "numPoints = CA_youtube_RDD.count()\n",
    "print(numPoints)\n",
    "#Lets take the sample of points\n",
    "samplePoints = CA_youtube_RDD.take(1) \n",
    "print(samplePoints)"
   ]
  },
  {
   "cell_type": "code",
   "execution_count": 0,
   "metadata": {
    "application/vnd.databricks.v1+cell": {
     "cellMetadata": {
      "byteLimit": 2048000,
      "rowLimit": 10000
     },
     "inputWidgets": {},
     "nuid": "3732c555-8b9d-40b9-8024-249d17025725",
     "showTitle": false,
     "title": ""
    }
   },
   "outputs": [
    {
     "output_type": "stream",
     "name": "stdout",
     "output_type": "stream",
     "text": [
      "['video_id,title,categoryId,view_count,likes,dislikes,comment_count,thumbnail_link,comments_disabled,ratings_disabled,description', '5WjcDji3xYc,Honest Trailers | Avatar: The Last Airbender,1,833369,50183,1120,4634,https://i.ytimg.com/vi/5WjcDji3xYc/default.jpg,FALSE,FALSE,\"►►Subscribe to ScreenJunkies!► https://fandom.link/SJSubscribeOur Next Fandom 5 Trivia Show is on Avatar: The Last Airbender and will be Friday, August 14th! More Info►► https://fandom.link/AvatarTriviaInfo►►Watch the Honest Trailers Commentary LIVE on Fandom Entertainment► https://youtu.be/Ww9ZHVYLpJM►►100 Reasons Why You Should Love Avatar: The Last Airbender w/ Roth, Joe, & Spencer► https://youtu.be/ml5OSwEqB_UHonest Trailers | Avatar: The Last AirbenderVoice Narration: Jon Bailey aka Epic Voice GuyWritten by: Spencer Gilbert, Joe Starr, Danielle Radford, & Lon HarrisProduced by: Spencer Gilbert & Joe StarrEdited by: Kevin WilliamsenPost-Production Supervisor: Emin BassavandSupervising Producer: Max DionneAssociate Producer: Ryan O\\'TooleExecutive Producer: Roth Cornet#HonestTrailers\"', \"z5l8ovbw_6M,Don't be a Tourist,1,1061892,117220,876,9311,https://i.ytimg.com/vi/z5l8ovbw_6M/default.jpg,FALSE,FALSE,This one is for all you full time travelersEMAIL FOR INQUIRIES:Tabbesk@gmail.com TIKTOK:https://www.tiktok.com/@tabtabbes?lang=enMERCH:https://crowdmade.com/collections/tabbesDISCORD: https://discord.gg/TabbesINSTAGRAM: https://www.instagram.com/tabtabbes/FACEBOOK: https://www.facebook.com/tab.tabbes/TWITTER:https://twitter.com/TabTabbesWEBTOON: https://www.webtoons.com/en/challenge/paper-crown/list?title_no=265219\", 'yVdH3QacEXc,Selena Gomez - This is the Year (Official Premiere Event),1,1523818,163684,2377,9845,https://i.ytimg.com/vi/yVdH3QacEXc/default.jpg,FALSE,FALSE,\"Get your tickets here: https://thisistheyear.film Join Selena and David who are reuniting after 8 years to bring you a one of a kind feel good experience for their new movie “This is the Year”, where you’ll enjoy a live virtual premiere on August 28 hosted by Charli & Dixie D’Amelio, question and answers with David, Selena and the cast and a performance by lovelytheband!\"', \"qQ8domUSU7M,Fall Guys in a Nutshell,1,1045901,71591,869,2734,https://i.ytimg.com/vi/qQ8domUSU7M/default.jpg,FALSE,FALSE,I've never been THIS infuriated at a game THIS fun before... okay maybe Mario Party.Subscribble for more viddles ► https://www.youtube.com/circletoonshdMerch! ► https://shop.makeship.com/collections/circletoonshdTwitter! ► https://www.twitter.com/CircletoonshdPatreon! ► https://www.patreon.com/CircleFacebook! ► https://www.facebook.com/JustMeBeingACircleTwitch! ► https://www.twitch.tv/thealmightycircleInstagram! ► https://www.instagram.com/thealmightycircle\", 'PORP0q8nThs,Getting Suspended In High School,1,741546,66330,523,4273,https://i.ytimg.com/vi/PORP0q8nThs/default.jpg,FALSE,FALSE,No Risk. No Reward. Getting Suspended In High School - By Young Don The Sauce God. This video is sponsored by Filmora9. Download and try Filmora9 for free: https://bit.ly/3fUiBJE . Download royalty-free video effects from Filmstock: https://bit.ly/32IznrvOutro Song - https://song.link/dZgNjsNzJ8BqX--------------------------------------------------------------------------------------Watch My Last Animation :Being A Jealous Boyfriend in High School - https://youtu.be/1nRXsgkmMr4Go Check Out All my other animations :https://www.youtube.com/playlist?list=PLXWQOb8FRiMtBy8X0rW0ZV-DBTmazWj74Subscribe to my Channel :https://www.youtube.com/channel/UCRfg0SWjIHm_h95e4V8X5og?sub_confirmation=1Merch Store - https://dreamlandblvd.com/Instagram - https://www.instagram.com/ilovesaucegod/Lead Animator :https://www.instagram.com/itsfeztho/Background Art: Tanja Hass Nielsen', 'HM_fkwDB-Xg,Yashahime: Princess Half-Demon | Official Announcement | VIZ,1,740830,34199,280,3413,https://i.ytimg.com/vi/HM_fkwDB-Xg/default.jpg,FALSE,FALSE,\"Yashahime: Princess Half-Demon arrives October 2020! Fate is in the hands of the next generation! 🌸Learn more about #Yashahime, a brand new anime from the #Inuyasha universe:https://buff.ly/2XAy4YgSubscribe to VIZ: https://buff.ly/2Rqfml3Follow us on Twitter: https://twitter.com/VIZMediaLike us on Facebook: https://www.facebook.com/OfficialVIZMediaFollow us on Instagram: https://www.instagram.com/vizmedia\"', '5WjcDji3xYc,Honest Trailers | Avatar: The Last Airbender,1,1010640,55205,1308,5036,https://i.ytimg.com/vi/5WjcDji3xYc/default.jpg,FALSE,FALSE,\"►►Subscribe to ScreenJunkies!► https://fandom.link/SJSubscribeOur Next Fandom 5 Trivia Show is on Avatar: The Last Airbender and will be Friday, August 14th! More Info►► https://fandom.link/AvatarTriviaInfo►►Watch the Honest Trailers Commentary LIVE on Fandom Entertainment► https://youtu.be/Ww9ZHVYLpJM►►100 Reasons Why You Should Love Avatar: The Last Airbender w/ Roth, Joe, & Spencer► https://youtu.be/ml5OSwEqB_UHonest Trailers | Avatar: The Last AirbenderVoice Narration: Jon Bailey aka Epic Voice GuyWritten by: Spencer Gilbert, Joe Starr, Danielle Radford, & Lon HarrisProduced by: Spencer Gilbert & Joe StarrEdited by: Kevin WilliamsenPost-Production Supervisor: Emin BassavandSupervising Producer: Max DionneAssociate Producer: Ryan O\\'TooleExecutive Producer: Roth Cornet#HonestTrailers\"', \"z5l8ovbw_6M,Don't be a Tourist,1,1229008,127359,1017,9831,https://i.ytimg.com/vi/z5l8ovbw_6M/default.jpg,FALSE,FALSE,This one is for all you full time travelers-EMAIL FOR INQUIRIES:Tabbesk@gmail.com TIKTOK:https://www.tiktok.com/@tabtabbes?lang=enMERCH:https://crowdmade.com/collections/tabbesDISCORD: https://discord.gg/TabbesINSTAGRAM: https://www.instagram.com/tabtabbes/FACEBOOK: https://www.facebook.com/tab.tabbes/TWITTER:https://twitter.com/TabTabbesWEBTOON: https://www.webtoons.com/en/challenge/paper-crown/list?title_no=265219\", 'yVdH3QacEXc,Selena Gomez - This is the Year (Official Premiere Event),1,1738121,183806,2552,10352,https://i.ytimg.com/vi/yVdH3QacEXc/default.jpg,FALSE,FALSE,\"Get your tickets here: https://thisistheyear.film Join Selena and David who are reuniting after 8 years to bring you a one of a kind feel good experience for their new movie “This is the Year”, where you’ll enjoy a live virtual premiere on August 28 hosted by Charli & Dixie D’Amelio, question and answers with David, Selena and the cast and a performance by lovelytheband!\"', 'bJbAZh3fv0g,Coming Sept. 4 | Mulan | Disney+,1,565044,7498,1202,1958,https://i.ytimg.com/vi/bJbAZh3fv0g/default.jpg,FALSE,FALSE,The legend arrives.', \"qQ8domUSU7M,Fall Guys in a Nutshell,1,1084442,73362,887,2823,https://i.ytimg.com/vi/qQ8domUSU7M/default.jpg,FALSE,FALSE,I've never been THIS infuriated at a game THIS fun before... okay maybe Mario Party.Subscribble for more viddles ► https://www.youtube.com/circletoonshdMerch! ► https://shop.makeship.com/collections/circletoonshdTwitter! ► https://www.twitter.com/CircletoonshdPatreon! ► https://www.patreon.com/CircleFacebook! ► https://www.facebook.com/JustMeBeingACircleTwitch! ► https://www.twitch.tv/thealmightycircleInstagram! ► https://www.instagram.com/thealmightycircle\", 'L2O-ZLKLhiw,Film Theory: Rick is a Morty CONFIRMED! (Rick and Morty),1,2081321,101881,3608,8885,https://i.ytimg.com/vi/L2O-ZLKLhiw/default.jpg,FALSE,FALSE,\"Subscribe to never miss a Theory!\\xa0► http://bit.ly/1dI8VBH\\xa0\\xa0Check out Food Theory! ►\\xa0https://bit.ly/3eSc5l6\\xa0 \\xa0Have you all been watching the Rick and Morty anime shorts? I have and let me tell you, there is a LOT hiding there! Things like the PROOF that our very own Rick is actually a MORTY! Are you thinking, How is that possible? Welcome to timeloops, Loyal Theorists! Where Morty is his own grandfather and grandson all at the same time! Get ready for this wild ride!Get yourself some Theory Wear! ►\\xa0http://creatorink.co/theorywear-ft\\xa0Don\\'t miss a Film Theory! ► http://bit.ly/1dI8VBH \\xa0#RickAndMorty #RickandMortyTheory #EvilMorty #Rick #Morty #Theory #Trailer #FilmTheory #MatpatNeed Royalty Free Music for your Content? Try Epidemic Sound.Get Your 30 Day Free Trial Now ► http://share.epidemicsound.com/TheFilmTheoristsMORE FILM THEORIESRick\\'s True CRIME! | Rick and Morty ►► https://bit.ly/2MVhP2WWill MORTY KILL RICK?! ►► https://bit.ly/2qKFFFVHow PICKLE RICK Functions! ►►► https://bit.ly/2JvU4fTBlair Witch\\'s SECRET DANGER! \\xa0► https://bit.ly/2qhmv7aAriel & Hercules Are RELATED?! ► https://bit.ly/32WnVWiCredits:Writer: Matthew Patrick and Justin Kuiper\\xa0\\xa0Editor: Koen Verhagen and\\xa0Alex Sedge SedgwickAssistant Editor: AlyssaBeCrazySound Editor: Yosi Berman\"', 'H7CpOdB2-rg,In defense of CATS,1,259171,28346,789,3015,https://i.ytimg.com/vi/H7CpOdB2-rg/default.jpg,FALSE,FALSE,\"▶ here for the chaos merch~ http://www.hereforthechaos.com▶ SONG: JUDY BYRD BY JUNIPER AVENUE https://open.spotify.com/artist/5H4hliZVpka8MetGT9nord?si=8v4lUbSxS4iuzU4268iz7Q (that\\'s my brother\\'s band!!) ▶ SNEAK PEEKS ON PATREON! http://patreon.com/illymation▶ BG ARTIST: Ingrid Umbachhttp://twitter.com/iumba_http://instagram.com/iumbaPROGRAMS USED:▶ ToonBoom Harmony Premium - to animate▶ Adobe Photoshop CC - background art / thumbnail▶ Cintiq 16 Pro - screen tablet (but I recommend basic cheap pen tablets from Wacom)▶ Adobe Premiere CC - to edit and compileSTAY CONNECTED!▶ https://instagram.com/illymation▶ https://twitter.com/illymation▶ https://twitch.tv/illymation▶ MERCH: http://www.hereforthechaos.cpm▶ SECOND CHANNEL: SILLYMATION https://www.youtube.com/channel/UCP9IBqJbr6RdNC-orxvzc9A- I\\'m sorry, I\\'m not available to do lines for videos anymore; I\\'ve gotten really busy :(- I am NOT looking for animation or video help! I appreciate your kindness. I\\'m not in a place where I need to hire people, not even for free.#cats #hereforthechaos\"', '5WjcDji3xYc,Honest Trailers | Avatar: The Last Airbender,1,1157919,63950,1502,5578,https://i.ytimg.com/vi/5WjcDji3xYc/default.jpg,FALSE,FALSE,\"►►Subscribe to ScreenJunkies!► https://fandom.link/SJSubscribeOur Next Fandom 5 Trivia Show is on Avatar: The Last Airbender and will be Friday, August 14th! More Info►► https://fandom.link/AvatarTriviaInfo►►Watch the Honest Trailers Commentary LIVE on Fandom Entertainment► https://youtu.be/Ww9ZHVYLpJM►►100 Reasons Why You Should Love Avatar: The Last Airbender w/ Roth, Joe, & Spencer► https://youtu.be/ml5OSwEqB_UHonest Trailers | Avatar: The Last AirbenderVoice Narration: Jon Bailey aka Epic Voice GuyWritten by: Spencer Gilbert, Joe Starr, Danielle Radford, & Lon HarrisProduced by: Spencer Gilbert & Joe StarrEdited by: Kevin WilliamsenPost-Production Supervisor: Emin BassavandSupervising Producer: Max DionneAssociate Producer: Ryan O\\'TooleExecutive Producer: Roth Cornet#HonestTrailers\"', \"z5l8ovbw_6M,Don't be a Tourist,1,1353783,133738,1076,10149,https://i.ytimg.com/vi/z5l8ovbw_6M/default.jpg,FALSE,FALSE,This one is for all you full time travelers-EMAIL FOR INQUIRIES:Tabbesk@gmail.com TIKTOK:https://www.tiktok.com/@tabtabbes?lang=enMERCH:https://crowdmade.com/collections/tabbesDISCORD: https://discord.gg/TabbesINSTAGRAM: https://www.instagram.com/tabtabbes/FACEBOOK: https://www.facebook.com/tab.tabbes/TWITTER:https://twitter.com/TabTabbesWEBTOON: https://www.webtoons.com/en/challenge/paper-crown/list?title_no=265219\", 'yVdH3QacEXc,Selena Gomez - This is the Year (Official Premiere Event),1,1871931,193330,2655,10607,https://i.ytimg.com/vi/yVdH3QacEXc/default.jpg,FALSE,FALSE,\"Get your tickets here: https://thisistheyear.film Join Selena and David who are reuniting after 8 years to bring you a one of a kind feel good experience for their new movie “This is the Year”, where you’ll enjoy a live virtual premiere on August 28 hosted by Charli & Dixie D’Amelio, question and answers with David, Selena and the cast and a performance by lovelytheband!\"', 'bJbAZh3fv0g,Coming Sept. 4 | Mulan | Disney+,1,1177267,10922,2223,3231,https://i.ytimg.com/vi/bJbAZh3fv0g/default.jpg,FALSE,FALSE,The legend arrives.DisneyPlus.com/Mulan', 'L2O-ZLKLhiw,Film Theory: Rick is a Morty CONFIRMED! (Rick and Morty),1,2895429,120134,4830,10284,https://i.ytimg.com/vi/L2O-ZLKLhiw/default.jpg,FALSE,FALSE,\"Subscribe to never miss a Theory!\\xa0► http://bit.ly/1dI8VBH\\xa0\\xa0Check out Food Theory! ►\\xa0https://bit.ly/3eSc5l6\\xa0 \\xa0Have you all been watching the Rick and Morty anime shorts? I have and let me tell you, there is a LOT hiding there! Things like the PROOF that our very own Rick is actually a MORTY! Are you thinking, How is that possible? Welcome to timeloops, Loyal Theorists! Where Morty is his own grandfather and grandson all at the same time! Get ready for this wild ride!Get yourself some Theory Wear! ►\\xa0http://creatorink.co/theorywear-ft\\xa0Don\\'t miss a Film Theory! ► http://bit.ly/1dI8VBH \\xa0#RickAndMorty #RickandMortyTheory #EvilMorty #Rick #Morty #Theory #Trailer #FilmTheory #MatpatNeed Royalty Free Music for your Content? Try Epidemic Sound.Get Your 30 Day Free Trial Now ► http://share.epidemicsound.com/TheFilmTheoristsMORE FILM THEORIESRick\\'s True CRIME! | Rick and Morty ►► https://bit.ly/2MVhP2WWill MORTY KILL RICK?! ►► https://bit.ly/2qKFFFVHow PICKLE RICK Functions! ►►► https://bit.ly/2JvU4fTBlair Witch\\'s SECRET DANGER! \\xa0► https://bit.ly/2qhmv7aAriel & Hercules Are RELATED?! ► https://bit.ly/32WnVWiCredits:Writer: Matthew Patrick and Justin Kuiper\\xa0\\xa0Editor: Koen Verhagen and\\xa0Alex Sedge SedgwickAssistant Editor: AlyssaBeCrazySound Editor: Yosi Berman\"', 'H7CpOdB2-rg,In defense of CATS,1,333061,32992,979,3424,https://i.ytimg.com/vi/H7CpOdB2-rg/default.jpg,FALSE,FALSE,\"▶ here for the chaos merch~ http://www.hereforthechaos.com▶ SONG: JUDY BYRD BY JUNIPER AVENUE https://open.spotify.com/artist/5H4hliZVpka8MetGT9nord?si=8v4lUbSxS4iuzU4268iz7Q (that\\'s my brother\\'s band!!) ▶ SNEAK PEEKS ON PATREON! http://patreon.com/illymation▶ BG ARTIST: Ingrid Umbachhttp://twitter.com/iumba_http://instagram.com/iumbaPROGRAMS USED:▶ ToonBoom Harmony Premium - to animate▶ Adobe Photoshop CC - background art / thumbnail▶ Cintiq 16 Pro - screen tablet (but I recommend basic cheap pen tablets from Wacom)▶ Adobe Premiere CC - to edit and compileSTAY CONNECTED!▶ https://instagram.com/illymation▶ https://twitter.com/illymation▶ https://twitch.tv/illymation▶ MERCH: http://www.hereforthechaos.cpm▶ SECOND CHANNEL: SILLYMATION https://www.youtube.com/channel/UCP9IBqJbr6RdNC-orxvzc9A- I\\'m sorry, I\\'m not available to do lines for videos anymore; I\\'ve gotten really busy :(- I am NOT looking for animation or video help! I appreciate your kindness. I\\'m not in a place where I need to hire people, not even for free.#cats #hereforthechaos\"', '5WjcDji3xYc,Honest Trailers | Avatar: The Last Airbender,1,1316783,72446,1684,5988,https://i.ytimg.com/vi/5WjcDji3xYc/default.jpg,FALSE,FALSE,\"►►Subscribe to ScreenJunkies!► https://fandom.link/SJSubscribeOur Next Fandom 5 Trivia Show is on Avatar: The Last Airbender and will be Friday, August 14th! More Info►► https://fandom.link/AvatarTriviaInfo►►Watch the Honest Trailers Commentary LIVE on Fandom Entertainment► https://youtu.be/Ww9ZHVYLpJM►►100 Reasons Why You Should Love Avatar: The Last Airbender w/ Roth, Joe, & Spencer► https://youtu.be/ml5OSwEqB_UHonest Trailers | Avatar: The Last AirbenderVoice Narration: Jon Bailey aka Epic Voice GuyWritten by: Spencer Gilbert, Joe Starr, Danielle Radford, & Lon HarrisProduced by: Spencer Gilbert & Joe StarrEdited by: Kevin WilliamsenPost-Production Supervisor: Emin BassavandSupervising Producer: Max DionneAssociate Producer: Ryan O\\'TooleExecutive Producer: Roth Cornet#HonestTrailers\"', \"z5l8ovbw_6M,Don't be a Tourist,1,1431689,137447,1101,10351,https://i.ytimg.com/vi/z5l8ovbw_6M/default.jpg,FALSE,FALSE,This one is for all you full time travelersEMAIL FOR INQUIRIES:Tabbesk@gmail.com TIKTOK:https://www.tiktok.com/@tabtabbes?lang=enMERCH:https://crowdmade.com/collections/tabbesDISCORD: https://discord.gg/TabbesINSTAGRAM: https://www.instagram.com/tabtabbes/FACEBOOK: https://www.facebook.com/tab.tabbes/TWITTER:https://twitter.com/TabTabbesWEBTOON: https://www.webtoons.com/en/challenge/paper-crown/list?title_no=265219\", 'bJbAZh3fv0g,Coming Sept. 4 | Mulan | Disney+,1,1794176,14631,3110,4319,https://i.ytimg.com/vi/bJbAZh3fv0g/default.jpg,FALSE,FALSE,The legend arrives.DisneyPlus.com/Mulan', 'yVdH3QacEXc,Selena Gomez - This is the Year (Official Premiere Event),1,1990983,202346,2729,10782,https://i.ytimg.com/vi/yVdH3QacEXc/default.jpg,FALSE,FALSE,\"Get your tickets here: https://thisistheyear.film Join Selena and David who are reuniting after 8 years to bring you a one of a kind feel good experience for their new movie “This is the Year”, where you’ll enjoy a live virtual premiere on August 28 hosted by Charli & Dixie D’Amelio, question and answers with David, Selena and the cast and a performance by lovelytheband!\"', 'L2O-ZLKLhiw,Film Theory: Rick is a Morty CONFIRMED! (Rick and Morty),1,3115454,124227,5143,10614,https://i.ytimg.com/vi/L2O-ZLKLhiw/default.jpg,FALSE,FALSE,\"Subscribe to never miss a Theory!\\xa0► http://bit.ly/1dI8VBH\\xa0\\xa0Check out Food Theory! ►\\xa0https://bit.ly/3eSc5l6\\xa0 \\xa0Have you all been watching the Rick and Morty anime shorts? I have and let me tell you, there is a LOT hiding there! Things like the PROOF that our very own Rick is actually a MORTY! Are you thinking, How is that possible? Welcome to timeloops, Loyal Theorists! Where Morty is his own grandfather and grandson all at the same time! Get ready for this wild ride!Get yourself some Theory Wear! ►\\xa0http://creatorink.co/theorywear-ft\\xa0Don\\'t miss a Film Theory! ► http://bit.ly/1dI8VBH \\xa0#RickAndMorty #RickandMortyTheory #EvilMorty #Rick #Morty #Theory #Trailer #FilmTheory #MatpatNeed Royalty Free Music for your Content? Try Epidemic Sound.Get Your 30 Day Free Trial Now ► http://share.epidemicsound.com/TheFilmTheoristsMORE FILM THEORIESRick\\'s True CRIME! | Rick and Morty ►► https://bit.ly/2MVhP2WWill MORTY KILL RICK?! ►► https://bit.ly/2qKFFFVHow PICKLE RICK Functions! ►►► https://bit.ly/2JvU4fTBlair Witch\\'s SECRET DANGER! \\xa0► https://bit.ly/2qhmv7aAriel & Hercules Are RELATED?! ► https://bit.ly/32WnVWiCredits:Writer: Matthew Patrick and Justin Kuiper\\xa0\\xa0Editor: Koen Verhagen and\\xa0Alex Sedge SedgwickAssistant Editor: AlyssaBeCrazySound Editor: Yosi Berman\"', 'H7CpOdB2-rg,In defense of CATS,1,373420,35660,1068,3634,https://i.ytimg.com/vi/H7CpOdB2-rg/default.jpg,FALSE,FALSE,\"▶ here for the chaos merch~ http://www.hereforthechaos.com▶ SONG: JUDY BYRD BY JUNIPER AVENUE https://open.spotify.com/artist/5H4hliZVpka8MetGT9nord?si=8v4lUbSxS4iuzU4268iz7Q (that\\'s my brother\\'s band!!) ▶ SNEAK PEEKS ON PATREON! http://patreon.com/illymation▶ BG ARTIST: Ingrid Umbachhttp://twitter.com/iumba_http://instagram.com/iumbaPROGRAMS USED:▶ ToonBoom Harmony Premium - to animate▶ Adobe Photoshop CC - background art / thumbnail▶ Cintiq 16 Pro - screen tablet (but I recommend basic cheap pen tablets from Wacom)▶ Adobe Premiere CC - to edit and compileSTAY CONNECTED!▶ https://instagram.com/illymation▶ https://twitter.com/illymation▶ https://twitch.tv/illymation▶ MERCH: http://www.hereforthechaos.cpm▶ SECOND CHANNEL: SILLYMATION https://www.youtube.com/channel/UCP9IBqJbr6RdNC-orxvzc9A- I\\'m sorry, I\\'m not available to do lines for videos anymore; I\\'ve gotten really busy :(- I am NOT looking for animation or video help! I appreciate your kindness. I\\'m not in a place where I need to hire people, not even for free.#cats #hereforthechaos\"', '5WjcDji3xYc,Honest Trailers | Avatar: The Last Airbender,1,1399162,76579,1779,6216,https://i.ytimg.com/vi/5WjcDji3xYc/default.jpg,FALSE,FALSE,\"►►Subscribe to ScreenJunkies!► https://fandom.link/SJSubscribeOur Next Fandom 5 Trivia Show is on Avatar: The Last Airbender and will be Friday, August 14th! More Info►► https://fandom.link/AvatarTriviaInfo►►Watch the Honest Trailers Commentary LIVE on Fandom Entertainment► https://youtu.be/Ww9ZHVYLpJM►►100 Reasons Why You Should Love Avatar: The Last Airbender w/ Roth, Joe, & Spencer► https://youtu.be/ml5OSwEqB_UHonest Trailers | Avatar: The Last AirbenderVoice Narration: Jon Bailey aka Epic Voice GuyWritten by: Spencer Gilbert, Joe Starr, Danielle Radford, & Lon HarrisProduced by: Spencer Gilbert & Joe StarrEdited by: Kevin WilliamsenPost-Production Supervisor: Emin BassavandSupervising Producer: Max DionneAssociate Producer: Ryan O\\'TooleExecutive Producer: Roth Cornet#HonestTrailers\"', \"z5l8ovbw_6M,Don't be a Tourist,1,1480119,139310,1123,10487,https://i.ytimg.com/vi/z5l8ovbw_6M/default.jpg,FALSE,FALSE,This one is for all you full time travelersEMAIL FOR INQUIRIES:Tabbesk@gmail.com TIKTOK:https://www.tiktok.com/@tabtabbes?lang=enMERCH:https://crowdmade.com/collections/tabbesDISCORD: https://discord.gg/TabbesINSTAGRAM: https://www.instagram.com/tabtabbes/FACEBOOK: https://www.facebook.com/tab.tabbes/TWITTER:https://twitter.com/TabTabbesWEBTOON: https://www.webtoons.com/en/challenge/paper-crown/list?title_no=265219\", 'bJbAZh3fv0g,Coming Sept. 4 | Mulan | Disney+,1,2321259,16927,3775,4977,https://i.ytimg.com/vi/bJbAZh3fv0g/default.jpg,FALSE,FALSE,The legend arrives.DisneyPlus.com/Mulan', 'yVdH3QacEXc,Selena Gomez - This is the Year (Official Premiere Event),1,2081049,208989,2764,10945,https://i.ytimg.com/vi/yVdH3QacEXc/default.jpg,FALSE,FALSE,\"Get your tickets here: https://thisistheyear.film Join Selena and David who are reuniting after 8 years to bring you a one of a kind feel good experience for their new movie “This is the Year”, where you’ll enjoy a live virtual premiere on August 28 hosted by Charli & Dixie D’Amelio, question and answers with David, Selena and the cast and a performance by lovelytheband!\"']\n"
     ]
    }
   ],
   "source": [
    "samplePoint2 = CA_youtube_RDD.take(30)\n",
    "print(samplePoint2)"
   ]
  },
  {
   "cell_type": "code",
   "execution_count": 0,
   "metadata": {
    "application/vnd.databricks.v1+cell": {
     "cellMetadata": {
      "byteLimit": 2048000,
      "rowLimit": 10000
     },
     "inputWidgets": {},
     "nuid": "c3a7311f-0b4d-483e-9a94-d4098eea72aa",
     "showTitle": false,
     "title": ""
    }
   },
   "outputs": [
    {
     "output_type": "stream",
     "name": "stdout",
     "output_type": "stream",
     "text": [
      "[('video_id', ('title', 'dislikes', 'comments_disabled', 'ratings_disabled', 'description')), ('5WjcDji3xYc', ('Honest Trailers | Avatar: The Last Airbender', '1120', 'FALSE', 'FALSE', '\"►►Subscribe to ScreenJunkies!► https://fandom.link/SJSubscribeOur Next Fandom 5 Trivia Show is on Avatar: The Last Airbender and will be Friday'))]\n"
     ]
    }
   ],
   "source": [
    "def extractFields(CA_youtubeRDD_Record):\n",
    "    #Create a key-value pair consisting of : \n",
    "    #Video Id, title, categoryID, view_count, likes, dislikes, comment_count\n",
    "    fieldList = CA_youtubeRDD_Record.split(',') #Delimited by , \n",
    "    return(fieldList[0], (fieldList[1], fieldList[5], fieldList[8], fieldList[9], fieldList[10]))\n",
    "\n",
    "CA_youtube_PairRDD = CA_youtube_RDD.map(extractFields)\n",
    "print(CA_youtube_PairRDD.take(2))"
   ]
  },
  {
   "cell_type": "code",
   "execution_count": 0,
   "metadata": {
    "application/vnd.databricks.v1+cell": {
     "cellMetadata": {
      "byteLimit": 2048000,
      "rowLimit": 10000
     },
     "inputWidgets": {},
     "nuid": "2d2b96d2-f8bc-4388-9456-7f00fbf4e4c1",
     "showTitle": false,
     "title": ""
    }
   },
   "outputs": [],
   "source": [
    "def filterData (CA_youtubeRDD_Record):\n",
    "    fieldList = CA_youtubeRDD_Record.split(',')\n",
    "    if len(fieldList)<0 :\n",
    "        return False \n",
    "    else :\n",
    "        return True \n",
    "    \n",
    "filteredRDD = CA_youtube_RDD.filter(filterData)\n",
    "#print(filteredRDD.take(5))\n"
   ]
  },
  {
   "cell_type": "code",
   "execution_count": 0,
   "metadata": {
    "application/vnd.databricks.v1+cell": {
     "cellMetadata": {
      "byteLimit": 2048000,
      "rowLimit": 10000
     },
     "inputWidgets": {},
     "nuid": "85814ff5-3f98-4073-b513-20c4acfb9c5a",
     "showTitle": false,
     "title": ""
    }
   },
   "outputs": [
    {
     "output_type": "stream",
     "name": "stdout",
     "output_type": "stream",
     "text": [
      "[('video_id', ('title', 'dislikes', 'comments_disabled', 'ratings_disabled', 'description')), ('5WjcDji3xYc', ('Honest Trailers | Avatar: The Last Airbender', '1120', 'FALSE', 'FALSE', '\"►►Subscribe to ScreenJunkies!► https://fandom.link/SJSubscribeOur Next Fandom 5 Trivia Show is on Avatar: The Last Airbender and will be Friday')), ('z5l8ovbw_6M', (\"Don't be a Tourist\", '876', 'FALSE', 'FALSE', 'This one is for all you full time travelersEMAIL FOR INQUIRIES:Tabbesk@gmail.com TIKTOK:https://www.tiktok.com/@tabtabbes?lang=enMERCH:https://crowdmade.com/collections/tabbesDISCORD: https://discord.gg/TabbesINSTAGRAM: https://www.instagram.com/tabtabbes/FACEBOOK: https://www.facebook.com/tab.tabbes/TWITTER:https://twitter.com/TabTabbesWEBTOON: https://www.webtoons.com/en/challenge/paper-crown/list?title_no=265219')), ('yVdH3QacEXc', ('Selena Gomez - This is the Year (Official Premiere Event)', '2377', 'FALSE', 'FALSE', '\"Get your tickets here: https://thisistheyear.film Join Selena and David who are reuniting after 8 years to bring you a one of a kind feel good experience for their new movie “This is the Year”')), ('qQ8domUSU7M', ('Fall Guys in a Nutshell', '869', 'FALSE', 'FALSE', \"I've never been THIS infuriated at a game THIS fun before... okay maybe Mario Party.Subscribble for more viddles ► https://www.youtube.com/circletoonshdMerch! ► https://shop.makeship.com/collections/circletoonshdTwitter! ► https://www.twitter.com/CircletoonshdPatreon! ► https://www.patreon.com/CircleFacebook! ► https://www.facebook.com/JustMeBeingACircleTwitch! ► https://www.twitch.tv/thealmightycircleInstagram! ► https://www.instagram.com/thealmightycircle\"))]\n"
     ]
    }
   ],
   "source": [
    "print(CA_youtube_PairRDD.take(5))"
   ]
  },
  {
   "cell_type": "code",
   "execution_count": 0,
   "metadata": {
    "application/vnd.databricks.v1+cell": {
     "cellMetadata": {
      "byteLimit": 2048000,
      "rowLimit": 10000
     },
     "inputWidgets": {},
     "nuid": "360df0e0-c498-4d32-be6a-c84a8a578196",
     "showTitle": false,
     "title": ""
    }
   },
   "outputs": [],
   "source": [
    "from pyspark.mllib.regression import LabeledPoint\n",
    "import numpy as np"
   ]
  },
  {
   "cell_type": "code",
   "execution_count": 0,
   "metadata": {
    "application/vnd.databricks.v1+cell": {
     "cellMetadata": {
      "byteLimit": 2048000,
      "rowLimit": 10000
     },
     "inputWidgets": {},
     "nuid": "6face0c4-1c14-449f-b91a-272d897b2c79",
     "showTitle": false,
     "title": ""
    }
   },
   "outputs": [
    {
     "output_type": "stream",
     "name": "stdout",
     "output_type": "stream",
     "text": [
      "Requirement already satisfied: spacy in /databricks/python3/lib/python3.9/site-packages (3.7.2)\nRequirement already satisfied: requests<3.0.0,>=2.13.0 in /databricks/python3/lib/python3.9/site-packages (from spacy) (2.27.1)\nRequirement already satisfied: setuptools in /databricks/python3/lib/python3.9/site-packages (from spacy) (61.2.0)\nRequirement already satisfied: tqdm<5.0.0,>=4.38.0 in /databricks/python3/lib/python3.9/site-packages (from spacy) (4.66.1)\nRequirement already satisfied: spacy-legacy<3.1.0,>=3.0.11 in /databricks/python3/lib/python3.9/site-packages (from spacy) (3.0.12)\nRequirement already satisfied: srsly<3.0.0,>=2.4.3 in /databricks/python3/lib/python3.9/site-packages (from spacy) (2.4.8)\nRequirement already satisfied: preshed<3.1.0,>=3.0.2 in /databricks/python3/lib/python3.9/site-packages (from spacy) (3.0.9)\nRequirement already satisfied: numpy>=1.19.0 in /databricks/python3/lib/python3.9/site-packages (from spacy) (1.21.5)\nRequirement already satisfied: murmurhash<1.1.0,>=0.28.0 in /databricks/python3/lib/python3.9/site-packages (from spacy) (1.0.10)\nRequirement already satisfied: pydantic!=1.8,!=1.8.1,<3.0.0,>=1.7.4 in /databricks/python3/lib/python3.9/site-packages (from spacy) (2.5.2)\nRequirement already satisfied: packaging>=20.0 in /databricks/python3/lib/python3.9/site-packages (from spacy) (21.3)\nRequirement already satisfied: jinja2 in /databricks/python3/lib/python3.9/site-packages (from spacy) (2.11.3)\nRequirement already satisfied: typer<0.10.0,>=0.3.0 in /databricks/python3/lib/python3.9/site-packages (from spacy) (0.9.0)\nRequirement already satisfied: weasel<0.4.0,>=0.1.0 in /databricks/python3/lib/python3.9/site-packages (from spacy) (0.3.4)\nRequirement already satisfied: cymem<2.1.0,>=2.0.2 in /databricks/python3/lib/python3.9/site-packages (from spacy) (2.0.8)\nRequirement already satisfied: thinc<8.3.0,>=8.1.8 in /databricks/python3/lib/python3.9/site-packages (from spacy) (8.2.2)\nRequirement already satisfied: catalogue<2.1.0,>=2.0.6 in /databricks/python3/lib/python3.9/site-packages (from spacy) (2.0.10)\nRequirement already satisfied: langcodes<4.0.0,>=3.2.0 in /databricks/python3/lib/python3.9/site-packages (from spacy) (3.3.0)\nRequirement already satisfied: spacy-loggers<2.0.0,>=1.0.0 in /databricks/python3/lib/python3.9/site-packages (from spacy) (1.0.5)\nRequirement already satisfied: wasabi<1.2.0,>=0.9.1 in /databricks/python3/lib/python3.9/site-packages (from spacy) (1.1.2)\nRequirement already satisfied: smart-open<7.0.0,>=5.2.1 in /databricks/python3/lib/python3.9/site-packages (from spacy) (6.4.0)\nRequirement already satisfied: pyparsing!=3.0.5,>=2.0.2 in /databricks/python3/lib/python3.9/site-packages (from packaging>=20.0->spacy) (3.0.4)\nRequirement already satisfied: annotated-types>=0.4.0 in /databricks/python3/lib/python3.9/site-packages (from pydantic!=1.8,!=1.8.1,<3.0.0,>=1.7.4->spacy) (0.6.0)\nRequirement already satisfied: pydantic-core==2.14.5 in /databricks/python3/lib/python3.9/site-packages (from pydantic!=1.8,!=1.8.1,<3.0.0,>=1.7.4->spacy) (2.14.5)\nRequirement already satisfied: typing-extensions>=4.6.1 in /databricks/python3/lib/python3.9/site-packages (from pydantic!=1.8,!=1.8.1,<3.0.0,>=1.7.4->spacy) (4.9.0)\nRequirement already satisfied: idna<4,>=2.5 in /databricks/python3/lib/python3.9/site-packages (from requests<3.0.0,>=2.13.0->spacy) (3.3)\nRequirement already satisfied: charset-normalizer~=2.0.0 in /databricks/python3/lib/python3.9/site-packages (from requests<3.0.0,>=2.13.0->spacy) (2.0.4)\nRequirement already satisfied: urllib3<1.27,>=1.21.1 in /databricks/python3/lib/python3.9/site-packages (from requests<3.0.0,>=2.13.0->spacy) (1.26.9)\nRequirement already satisfied: certifi>=2017.4.17 in /databricks/python3/lib/python3.9/site-packages (from requests<3.0.0,>=2.13.0->spacy) (2021.10.8)\nRequirement already satisfied: confection<1.0.0,>=0.0.1 in /databricks/python3/lib/python3.9/site-packages (from thinc<8.3.0,>=8.1.8->spacy) (0.1.4)\nRequirement already satisfied: blis<0.8.0,>=0.7.8 in /databricks/python3/lib/python3.9/site-packages (from thinc<8.3.0,>=8.1.8->spacy) (0.7.11)\nRequirement already satisfied: click<9.0.0,>=7.1.1 in /databricks/python3/lib/python3.9/site-packages (from typer<0.10.0,>=0.3.0->spacy) (8.0.4)\nRequirement already satisfied: cloudpathlib<0.17.0,>=0.7.0 in /databricks/python3/lib/python3.9/site-packages (from weasel<0.4.0,>=0.1.0->spacy) (0.16.0)\nRequirement already satisfied: MarkupSafe>=0.23 in /databricks/python3/lib/python3.9/site-packages (from jinja2->spacy) (2.0.1)\nWARNING: You are using pip version 21.2.4; however, version 23.3.1 is available.\nYou should consider upgrading via the '/databricks/python3/bin/python -m pip install --upgrade pip' command.\nCollecting en-core-web-sm==3.7.1\n  Using cached https://github.com/explosion/spacy-models/releases/download/en_core_web_sm-3.7.1/en_core_web_sm-3.7.1-py3-none-any.whl (12.8 MB)\nRequirement already satisfied: spacy<3.8.0,>=3.7.2 in /databricks/python3/lib/python3.9/site-packages (from en-core-web-sm==3.7.1) (3.7.2)\nRequirement already satisfied: requests<3.0.0,>=2.13.0 in /databricks/python3/lib/python3.9/site-packages (from spacy<3.8.0,>=3.7.2->en-core-web-sm==3.7.1) (2.27.1)\nRequirement already satisfied: setuptools in /databricks/python3/lib/python3.9/site-packages (from spacy<3.8.0,>=3.7.2->en-core-web-sm==3.7.1) (61.2.0)\nRequirement already satisfied: tqdm<5.0.0,>=4.38.0 in /databricks/python3/lib/python3.9/site-packages (from spacy<3.8.0,>=3.7.2->en-core-web-sm==3.7.1) (4.66.1)\nRequirement already satisfied: spacy-legacy<3.1.0,>=3.0.11 in /databricks/python3/lib/python3.9/site-packages (from spacy<3.8.0,>=3.7.2->en-core-web-sm==3.7.1) (3.0.12)\nRequirement already satisfied: srsly<3.0.0,>=2.4.3 in /databricks/python3/lib/python3.9/site-packages (from spacy<3.8.0,>=3.7.2->en-core-web-sm==3.7.1) (2.4.8)\nRequirement already satisfied: preshed<3.1.0,>=3.0.2 in /databricks/python3/lib/python3.9/site-packages (from spacy<3.8.0,>=3.7.2->en-core-web-sm==3.7.1) (3.0.9)\nRequirement already satisfied: numpy>=1.19.0 in /databricks/python3/lib/python3.9/site-packages (from spacy<3.8.0,>=3.7.2->en-core-web-sm==3.7.1) (1.21.5)\nRequirement already satisfied: murmurhash<1.1.0,>=0.28.0 in /databricks/python3/lib/python3.9/site-packages (from spacy<3.8.0,>=3.7.2->en-core-web-sm==3.7.1) (1.0.10)\nRequirement already satisfied: pydantic!=1.8,!=1.8.1,<3.0.0,>=1.7.4 in /databricks/python3/lib/python3.9/site-packages (from spacy<3.8.0,>=3.7.2->en-core-web-sm==3.7.1) (2.5.2)\nRequirement already satisfied: packaging>=20.0 in /databricks/python3/lib/python3.9/site-packages (from spacy<3.8.0,>=3.7.2->en-core-web-sm==3.7.1) (21.3)\nRequirement already satisfied: jinja2 in /databricks/python3/lib/python3.9/site-packages (from spacy<3.8.0,>=3.7.2->en-core-web-sm==3.7.1) (2.11.3)\nRequirement already satisfied: typer<0.10.0,>=0.3.0 in /databricks/python3/lib/python3.9/site-packages (from spacy<3.8.0,>=3.7.2->en-core-web-sm==3.7.1) (0.9.0)\nRequirement already satisfied: weasel<0.4.0,>=0.1.0 in /databricks/python3/lib/python3.9/site-packages (from spacy<3.8.0,>=3.7.2->en-core-web-sm==3.7.1) (0.3.4)\nRequirement already satisfied: cymem<2.1.0,>=2.0.2 in /databricks/python3/lib/python3.9/site-packages (from spacy<3.8.0,>=3.7.2->en-core-web-sm==3.7.1) (2.0.8)\nRequirement already satisfied: thinc<8.3.0,>=8.1.8 in /databricks/python3/lib/python3.9/site-packages (from spacy<3.8.0,>=3.7.2->en-core-web-sm==3.7.1) (8.2.2)\nRequirement already satisfied: catalogue<2.1.0,>=2.0.6 in /databricks/python3/lib/python3.9/site-packages (from spacy<3.8.0,>=3.7.2->en-core-web-sm==3.7.1) (2.0.10)\nRequirement already satisfied: langcodes<4.0.0,>=3.2.0 in /databricks/python3/lib/python3.9/site-packages (from spacy<3.8.0,>=3.7.2->en-core-web-sm==3.7.1) (3.3.0)\nRequirement already satisfied: spacy-loggers<2.0.0,>=1.0.0 in /databricks/python3/lib/python3.9/site-packages (from spacy<3.8.0,>=3.7.2->en-core-web-sm==3.7.1) (1.0.5)\nRequirement already satisfied: wasabi<1.2.0,>=0.9.1 in /databricks/python3/lib/python3.9/site-packages (from spacy<3.8.0,>=3.7.2->en-core-web-sm==3.7.1) (1.1.2)\nRequirement already satisfied: smart-open<7.0.0,>=5.2.1 in /databricks/python3/lib/python3.9/site-packages (from spacy<3.8.0,>=3.7.2->en-core-web-sm==3.7.1) (6.4.0)\nRequirement already satisfied: pyparsing!=3.0.5,>=2.0.2 in /databricks/python3/lib/python3.9/site-packages (from packaging>=20.0->spacy<3.8.0,>=3.7.2->en-core-web-sm==3.7.1) (3.0.4)\nRequirement already satisfied: annotated-types>=0.4.0 in /databricks/python3/lib/python3.9/site-packages (from pydantic!=1.8,!=1.8.1,<3.0.0,>=1.7.4->spacy<3.8.0,>=3.7.2->en-core-web-sm==3.7.1) (0.6.0)\nRequirement already satisfied: pydantic-core==2.14.5 in /databricks/python3/lib/python3.9/site-packages (from pydantic!=1.8,!=1.8.1,<3.0.0,>=1.7.4->spacy<3.8.0,>=3.7.2->en-core-web-sm==3.7.1) (2.14.5)\nRequirement already satisfied: typing-extensions>=4.6.1 in /databricks/python3/lib/python3.9/site-packages (from pydantic!=1.8,!=1.8.1,<3.0.0,>=1.7.4->spacy<3.8.0,>=3.7.2->en-core-web-sm==3.7.1) (4.9.0)\nRequirement already satisfied: idna<4,>=2.5 in /databricks/python3/lib/python3.9/site-packages (from requests<3.0.0,>=2.13.0->spacy<3.8.0,>=3.7.2->en-core-web-sm==3.7.1) (3.3)\nRequirement already satisfied: charset-normalizer~=2.0.0 in /databricks/python3/lib/python3.9/site-packages (from requests<3.0.0,>=2.13.0->spacy<3.8.0,>=3.7.2->en-core-web-sm==3.7.1) (2.0.4)\nRequirement already satisfied: urllib3<1.27,>=1.21.1 in /databricks/python3/lib/python3.9/site-packages (from requests<3.0.0,>=2.13.0->spacy<3.8.0,>=3.7.2->en-core-web-sm==3.7.1) (1.26.9)\nRequirement already satisfied: certifi>=2017.4.17 in /databricks/python3/lib/python3.9/site-packages (from requests<3.0.0,>=2.13.0->spacy<3.8.0,>=3.7.2->en-core-web-sm==3.7.1) (2021.10.8)\nRequirement already satisfied: confection<1.0.0,>=0.0.1 in /databricks/python3/lib/python3.9/site-packages (from thinc<8.3.0,>=8.1.8->spacy<3.8.0,>=3.7.2->en-core-web-sm==3.7.1) (0.1.4)\nRequirement already satisfied: blis<0.8.0,>=0.7.8 in /databricks/python3/lib/python3.9/site-packages (from thinc<8.3.0,>=8.1.8->spacy<3.8.0,>=3.7.2->en-core-web-sm==3.7.1) (0.7.11)\nRequirement already satisfied: click<9.0.0,>=7.1.1 in /databricks/python3/lib/python3.9/site-packages (from typer<0.10.0,>=0.3.0->spacy<3.8.0,>=3.7.2->en-core-web-sm==3.7.1) (8.0.4)\nRequirement already satisfied: cloudpathlib<0.17.0,>=0.7.0 in /databricks/python3/lib/python3.9/site-packages (from weasel<0.4.0,>=0.1.0->spacy<3.8.0,>=3.7.2->en-core-web-sm==3.7.1) (0.16.0)\nRequirement already satisfied: MarkupSafe>=0.23 in /databricks/python3/lib/python3.9/site-packages (from jinja2->spacy<3.8.0,>=3.7.2->en-core-web-sm==3.7.1) (2.0.1)\nWARNING: You are using pip version 21.2.4; however, version 23.3.1 is available.\nYou should consider upgrading via the '/databricks/python3/bin/python3 -m pip install --upgrade pip' command.\n\u001B[38;5;2m✔ Download and installation successful\u001B[0m\nYou can now load the package via spacy.load('en_core_web_sm')\n"
     ]
    }
   ],
   "source": [
    "%sh\n",
    "/databricks/python3/bin/pip install spacy \n",
    "/databricks/python3/bin/python3 -m spacy download en_core_web_sm"
   ]
  },
  {
   "cell_type": "code",
   "execution_count": 0,
   "metadata": {
    "application/vnd.databricks.v1+cell": {
     "cellMetadata": {
      "byteLimit": 2048000,
      "rowLimit": 10000
     },
     "inputWidgets": {},
     "nuid": "51659a21-a34e-4f50-b620-f6fca7ba68bb",
     "showTitle": false,
     "title": ""
    }
   },
   "outputs": [
    {
     "output_type": "stream",
     "name": "stdout",
     "output_type": "stream",
     "text": [
      "/bin/bash: /local_disk0/.ephemeral_nfs/envs/pythonEnv-87fd4857-b3b5-49b0-b2d3-1f35732d5d77/bin/python: No such file or directory\n"
     ]
    }
   ],
   "source": [
    "%sh\n",
    "/local_disk0/.ephemeral_nfs/envs/pythonEnv-87fd4857-b3b5-49b0-b2d3-1f35732d5d77/bin/python -m pip install --upgrade pip"
   ]
  },
  {
   "cell_type": "code",
   "execution_count": 0,
   "metadata": {
    "application/vnd.databricks.v1+cell": {
     "cellMetadata": {
      "byteLimit": 2048000,
      "rowLimit": 10000
     },
     "inputWidgets": {},
     "nuid": "b0212d86-f065-4d4a-b642-a45abdeec882",
     "showTitle": false,
     "title": ""
    }
   },
   "outputs": [
    {
     "output_type": "stream",
     "name": "stdout",
     "output_type": "stream",
     "text": [
      "Collecting https://github.com/explosion/spacy-models/releases/download/en_core_web_md-2.2.5/en_core_web_md-2.2.5.tar.gz\n  Downloading https://github.com/explosion/spacy-models/releases/download/en_core_web_md-2.2.5/en_core_web_md-2.2.5.tar.gz (96.4 MB)\nRequirement already satisfied: spacy>=2.2.2 in /databricks/python3/lib/python3.9/site-packages (from en-core-web-md==2.2.5) (3.7.2)\nRequirement already satisfied: requests<3.0.0,>=2.13.0 in /databricks/python3/lib/python3.9/site-packages (from spacy>=2.2.2->en-core-web-md==2.2.5) (2.27.1)\nRequirement already satisfied: setuptools in /databricks/python3/lib/python3.9/site-packages (from spacy>=2.2.2->en-core-web-md==2.2.5) (61.2.0)\nRequirement already satisfied: tqdm<5.0.0,>=4.38.0 in /databricks/python3/lib/python3.9/site-packages (from spacy>=2.2.2->en-core-web-md==2.2.5) (4.66.1)\nRequirement already satisfied: spacy-legacy<3.1.0,>=3.0.11 in /databricks/python3/lib/python3.9/site-packages (from spacy>=2.2.2->en-core-web-md==2.2.5) (3.0.12)\nRequirement already satisfied: srsly<3.0.0,>=2.4.3 in /databricks/python3/lib/python3.9/site-packages (from spacy>=2.2.2->en-core-web-md==2.2.5) (2.4.8)\nRequirement already satisfied: preshed<3.1.0,>=3.0.2 in /databricks/python3/lib/python3.9/site-packages (from spacy>=2.2.2->en-core-web-md==2.2.5) (3.0.9)\nRequirement already satisfied: numpy>=1.19.0 in /databricks/python3/lib/python3.9/site-packages (from spacy>=2.2.2->en-core-web-md==2.2.5) (1.21.5)\nRequirement already satisfied: murmurhash<1.1.0,>=0.28.0 in /databricks/python3/lib/python3.9/site-packages (from spacy>=2.2.2->en-core-web-md==2.2.5) (1.0.10)\nRequirement already satisfied: pydantic!=1.8,!=1.8.1,<3.0.0,>=1.7.4 in /databricks/python3/lib/python3.9/site-packages (from spacy>=2.2.2->en-core-web-md==2.2.5) (2.5.2)\nRequirement already satisfied: packaging>=20.0 in /databricks/python3/lib/python3.9/site-packages (from spacy>=2.2.2->en-core-web-md==2.2.5) (21.3)\nRequirement already satisfied: jinja2 in /databricks/python3/lib/python3.9/site-packages (from spacy>=2.2.2->en-core-web-md==2.2.5) (2.11.3)\nRequirement already satisfied: typer<0.10.0,>=0.3.0 in /databricks/python3/lib/python3.9/site-packages (from spacy>=2.2.2->en-core-web-md==2.2.5) (0.9.0)\nRequirement already satisfied: weasel<0.4.0,>=0.1.0 in /databricks/python3/lib/python3.9/site-packages (from spacy>=2.2.2->en-core-web-md==2.2.5) (0.3.4)\nRequirement already satisfied: cymem<2.1.0,>=2.0.2 in /databricks/python3/lib/python3.9/site-packages (from spacy>=2.2.2->en-core-web-md==2.2.5) (2.0.8)\nRequirement already satisfied: thinc<8.3.0,>=8.1.8 in /databricks/python3/lib/python3.9/site-packages (from spacy>=2.2.2->en-core-web-md==2.2.5) (8.2.2)\nRequirement already satisfied: catalogue<2.1.0,>=2.0.6 in /databricks/python3/lib/python3.9/site-packages (from spacy>=2.2.2->en-core-web-md==2.2.5) (2.0.10)\nRequirement already satisfied: langcodes<4.0.0,>=3.2.0 in /databricks/python3/lib/python3.9/site-packages (from spacy>=2.2.2->en-core-web-md==2.2.5) (3.3.0)\nRequirement already satisfied: spacy-loggers<2.0.0,>=1.0.0 in /databricks/python3/lib/python3.9/site-packages (from spacy>=2.2.2->en-core-web-md==2.2.5) (1.0.5)\nRequirement already satisfied: wasabi<1.2.0,>=0.9.1 in /databricks/python3/lib/python3.9/site-packages (from spacy>=2.2.2->en-core-web-md==2.2.5) (1.1.2)\nRequirement already satisfied: smart-open<7.0.0,>=5.2.1 in /databricks/python3/lib/python3.9/site-packages (from spacy>=2.2.2->en-core-web-md==2.2.5) (6.4.0)\nRequirement already satisfied: pyparsing!=3.0.5,>=2.0.2 in /databricks/python3/lib/python3.9/site-packages (from packaging>=20.0->spacy>=2.2.2->en-core-web-md==2.2.5) (3.0.4)\nRequirement already satisfied: annotated-types>=0.4.0 in /databricks/python3/lib/python3.9/site-packages (from pydantic!=1.8,!=1.8.1,<3.0.0,>=1.7.4->spacy>=2.2.2->en-core-web-md==2.2.5) (0.6.0)\nRequirement already satisfied: pydantic-core==2.14.5 in /databricks/python3/lib/python3.9/site-packages (from pydantic!=1.8,!=1.8.1,<3.0.0,>=1.7.4->spacy>=2.2.2->en-core-web-md==2.2.5) (2.14.5)\nRequirement already satisfied: typing-extensions>=4.6.1 in /databricks/python3/lib/python3.9/site-packages (from pydantic!=1.8,!=1.8.1,<3.0.0,>=1.7.4->spacy>=2.2.2->en-core-web-md==2.2.5) (4.9.0)\nRequirement already satisfied: idna<4,>=2.5 in /databricks/python3/lib/python3.9/site-packages (from requests<3.0.0,>=2.13.0->spacy>=2.2.2->en-core-web-md==2.2.5) (3.3)\nRequirement already satisfied: charset-normalizer~=2.0.0 in /databricks/python3/lib/python3.9/site-packages (from requests<3.0.0,>=2.13.0->spacy>=2.2.2->en-core-web-md==2.2.5) (2.0.4)\nRequirement already satisfied: urllib3<1.27,>=1.21.1 in /databricks/python3/lib/python3.9/site-packages (from requests<3.0.0,>=2.13.0->spacy>=2.2.2->en-core-web-md==2.2.5) (1.26.9)\nRequirement already satisfied: certifi>=2017.4.17 in /databricks/python3/lib/python3.9/site-packages (from requests<3.0.0,>=2.13.0->spacy>=2.2.2->en-core-web-md==2.2.5) (2021.10.8)\nRequirement already satisfied: confection<1.0.0,>=0.0.1 in /databricks/python3/lib/python3.9/site-packages (from thinc<8.3.0,>=8.1.8->spacy>=2.2.2->en-core-web-md==2.2.5) (0.1.4)\nRequirement already satisfied: blis<0.8.0,>=0.7.8 in /databricks/python3/lib/python3.9/site-packages (from thinc<8.3.0,>=8.1.8->spacy>=2.2.2->en-core-web-md==2.2.5) (0.7.11)\nRequirement already satisfied: click<9.0.0,>=7.1.1 in /databricks/python3/lib/python3.9/site-packages (from typer<0.10.0,>=0.3.0->spacy>=2.2.2->en-core-web-md==2.2.5) (8.0.4)\nRequirement already satisfied: cloudpathlib<0.17.0,>=0.7.0 in /databricks/python3/lib/python3.9/site-packages (from weasel<0.4.0,>=0.1.0->spacy>=2.2.2->en-core-web-md==2.2.5) (0.16.0)\nRequirement already satisfied: MarkupSafe>=0.23 in /databricks/python3/lib/python3.9/site-packages (from jinja2->spacy>=2.2.2->en-core-web-md==2.2.5) (2.0.1)\nWARNING: You are using pip version 21.2.4; however, version 23.3.1 is available.\nYou should consider upgrading via the '/local_disk0/.ephemeral_nfs/envs/pythonEnv-c74583d8-9202-4741-857e-7bf962307ee1/bin/python -m pip install --upgrade pip' command.\n"
     ]
    }
   ],
   "source": [
    "%sh\n",
    "pip install \"https://github.com/explosion/spacy-models/releases/download/en_core_web_md-2.2.5/en_core_web_md-2.2.5.tar.gz\""
   ]
  },
  {
   "cell_type": "code",
   "execution_count": 0,
   "metadata": {
    "application/vnd.databricks.v1+cell": {
     "cellMetadata": {
      "byteLimit": 2048000,
      "rowLimit": 10000
     },
     "inputWidgets": {},
     "nuid": "691a48d7-b9d5-4795-8a5b-92940fb3e2d9",
     "showTitle": false,
     "title": ""
    }
   },
   "outputs": [],
   "source": [
    "dbutils.library.restartPython()"
   ]
  },
  {
   "cell_type": "code",
   "execution_count": 0,
   "metadata": {
    "application/vnd.databricks.v1+cell": {
     "cellMetadata": {
      "byteLimit": 2048000,
      "rowLimit": 10000
     },
     "inputWidgets": {},
     "nuid": "4282431c-883a-40ed-8a18-233c2b049d69",
     "showTitle": false,
     "title": ""
    }
   },
   "outputs": [],
   "source": [
    "import spacy\n",
    "\n",
    "\n",
    "df = spark.sql(\"SELECT title FROM cateogry1data_2_csv\")\n",
    "titles = df.filter(df[\"title\"].isNotNull() & (df[\"title\"] != \"\")).rdd.map(lambda row: row['title']).collect()\n",
    "nlp = spacy.load('en_core_web_sm')\n",
    "title_vectors = []\n",
    "for title in titles:\n",
    "    doc = nlp(title)\n",
    "    #print(doc.vector_norm)\n",
    "    title_vector = doc.vector_norm\n",
    "    title_vectors.append(title_vector)\n"
   ]
  },
  {
   "cell_type": "code",
   "execution_count": 0,
   "metadata": {
    "application/vnd.databricks.v1+cell": {
     "cellMetadata": {
      "byteLimit": 2048000,
      "rowLimit": 10000
     },
     "inputWidgets": {},
     "nuid": "fb3dc462-580b-4172-a0b5-6a5100470d7b",
     "showTitle": false,
     "title": ""
    }
   },
   "outputs": [
    {
     "output_type": "stream",
     "name": "stdout",
     "output_type": "stream",
     "text": [
      "[['4.687736088222961' '833369']\n ['4.509727210116285' '1061892']\n ['3.298016926826576' '1523818']\n ...\n ['4.317405521668583' '7399943']\n ['5.22774597691059' '204157']\n ['4.608736429428359' '2155337']]\n"
     ]
    }
   ],
   "source": [
    "import numpy as np\n",
    "\n",
    "df1 = spark.sql(\"SELECT view_count FROM cateogry1data_2_csv\")\n",
    "views = df1.filter(df1[\"view_count\"].isNotNull() & (df1[\"view_count\"] != \"\")).rdd.map(lambda row: row['view_count']).collect()\n",
    "views_vector = []\n",
    "for view in views:\n",
    "    views_vector.append(view)\n",
    "\n",
    "title_vectors_trimmed = title_vectors[:len(views_vector)]\n",
    "\n",
    "# Convert views_vector to a numpy array\n",
    "views_vector_np = np.array(views_vector)\n",
    "\n",
    "# Convert title_vectors_trimmed to a numpy array\n",
    "title_vectors_trimmed_np = np.array(title_vectors_trimmed)\n",
    "title_vectors_trimmed_np = title_vectors_trimmed_np.reshape(-1, 1)  # Reshaping to a column vector\n",
    "\n",
    "# Concatenate vertically (along axis=0)\n",
    "X_combined = np.concatenate((title_vectors_trimmed_np, views_vector_np[:, None]), axis=1)\n",
    "\n",
    "print(X_combined)"
   ]
  },
  {
   "cell_type": "code",
   "execution_count": 0,
   "metadata": {
    "application/vnd.databricks.v1+cell": {
     "cellMetadata": {
      "byteLimit": 2048000,
      "rowLimit": 10000
     },
     "inputWidgets": {},
     "nuid": "773edce3-1f40-44d0-9bce-f79bf944ef26",
     "showTitle": false,
     "title": ""
    }
   },
   "outputs": [
    {
     "output_type": "stream",
     "name": "stdout",
     "output_type": "stream",
     "text": [
      "Feature Mat X : \n[['4.687736088222961' '833369']\n ['4.509727210116285' '1061892']\n ['3.298016926826576' '1523818']\n ...\n ['4.317405521668583' '7399943']\n ['5.22774597691059' '204157']\n ['4.608736429428359' '2155337']]\nTarget Y : \n['833369' '1061892' '1523818' ... '7399943' '204157' '2155337']\n(8949, 2)\n8949\n[' Alicia Vikander and Joel Edgerton Like The Green Knight on Facebook: http://bit.ly/TheGreenKnight_facebookFollow The Green Knight on Twitter: http://bit.ly/TheGreenKnight_twitterFollow the Green Knight on Instagram: http://bit.ly/Thegreenknight_instagram'\n ' Arian Moayed' ' Brendan Gleeson' ... '999648' '999677' '999977']\n[' Alicia Vikander and Joel Edgerton Like The Green Knight on Facebook: http://bit.ly/TheGreenKnight_facebookFollow The Green Knight on Twitter: http://bit.ly/TheGreenKnight_twitterFollow the Green Knight on Instagram: http://bit.ly/Thegreenknight_instagram'\n ' Arian Moayed' ' Brendan Gleeson' ... '999648' '999677' '999977']\n"
     ]
    }
   ],
   "source": [
    "y = np.array(views_vector)\n",
    "y_trimmed = y[:len(views_vector)]\n",
    "print(\"Feature Mat X : \")\n",
    "print(X_combined)\n",
    "print(\"Target Y : \")\n",
    "print(y)\n",
    "\n",
    "print(X_combined.shape)\n",
    "print(len(y_trimmed))\n",
    "\n"
   ]
  },
  {
   "cell_type": "code",
   "execution_count": 0,
   "metadata": {
    "application/vnd.databricks.v1+cell": {
     "cellMetadata": {
      "byteLimit": 2048000,
      "rowLimit": 10000
     },
     "inputWidgets": {},
     "nuid": "9ef8c7c5-cc00-4c8f-8b65-7ac0295182bf",
     "showTitle": false,
     "title": ""
    }
   },
   "outputs": [
    {
     "output_type": "stream",
     "name": "stderr",
     "output_type": "stream",
     "text": [
      "/databricks/python/lib/python3.9/site-packages/sklearn/utils/validation.py:964: FutureWarning: Arrays of bytes/strings is being converted to decimal numbers if dtype='numeric'. This behavior is deprecated in 0.24 and will be removed in 1.1 (renaming of 0.26). Please convert your data to numeric values explicitly instead.\n  X = check_array(\n"
     ]
    },
    {
     "output_type": "display_data",
     "data": {
      "text/plain": [
       "\u001B[0;31m---------------------------------------------------------------------------\u001B[0m\n",
       "\u001B[0;31mValueError\u001B[0m                                Traceback (most recent call last)\n",
       "File \u001B[0;32m/databricks/python/lib/python3.9/site-packages/sklearn/utils/validation.py:787\u001B[0m, in \u001B[0;36mcheck_array\u001B[0;34m(array, accept_sparse, accept_large_sparse, dtype, order, copy, force_all_finite, ensure_2d, allow_nd, ensure_min_samples, ensure_min_features, estimator)\u001B[0m\n",
       "\u001B[1;32m    786\u001B[0m \u001B[38;5;28;01mtry\u001B[39;00m:\n",
       "\u001B[0;32m--> 787\u001B[0m     array \u001B[38;5;241m=\u001B[39m \u001B[43marray\u001B[49m\u001B[38;5;241;43m.\u001B[39;49m\u001B[43mastype\u001B[49m\u001B[43m(\u001B[49m\u001B[43mnp\u001B[49m\u001B[38;5;241;43m.\u001B[39;49m\u001B[43mfloat64\u001B[49m\u001B[43m)\u001B[49m\n",
       "\u001B[1;32m    788\u001B[0m \u001B[38;5;28;01mexcept\u001B[39;00m \u001B[38;5;167;01mValueError\u001B[39;00m \u001B[38;5;28;01mas\u001B[39;00m e:\n",
       "\n",
       "\u001B[0;31mValueError\u001B[0m: could not convert string to float: ' Tim Meadows'\n",
       "\n",
       "The above exception was the direct cause of the following exception:\n",
       "\n",
       "\u001B[0;31mValueError\u001B[0m                                Traceback (most recent call last)\n",
       "File \u001B[0;32m<command-1071113111622439>:14\u001B[0m\n",
       "\u001B[1;32m     12\u001B[0m \u001B[38;5;66;03m# Initialize and train the model\u001B[39;00m\n",
       "\u001B[1;32m     13\u001B[0m model \u001B[38;5;241m=\u001B[39m LinearRegression()\n",
       "\u001B[0;32m---> 14\u001B[0m model\u001B[38;5;241m.\u001B[39mfit(X_train, y_train)\n",
       "\u001B[1;32m     16\u001B[0m \u001B[38;5;66;03m# Evaluate the model's performance on the test set\u001B[39;00m\n",
       "\u001B[1;32m     17\u001B[0m predicted \u001B[38;5;241m=\u001B[39m model\u001B[38;5;241m.\u001B[39mpredict(X_test)\n",
       "\n",
       "File \u001B[0;32m/databricks/python_shell/dbruntime/MLWorkloadsInstrumentation/_sklearn.py:29\u001B[0m, in \u001B[0;36m_create_patch_function.<locals>.patch_function\u001B[0;34m(self, *args, **kwargs)\u001B[0m\n",
       "\u001B[1;32m     27\u001B[0m \u001B[38;5;28;01mtry\u001B[39;00m:\n",
       "\u001B[1;32m     28\u001B[0m     original_succeeded \u001B[38;5;241m=\u001B[39m \u001B[38;5;28;01mFalse\u001B[39;00m\n",
       "\u001B[0;32m---> 29\u001B[0m     original_result \u001B[38;5;241m=\u001B[39m \u001B[43moriginal\u001B[49m\u001B[43m(\u001B[49m\u001B[38;5;28;43mself\u001B[39;49m\u001B[43m,\u001B[49m\u001B[43m \u001B[49m\u001B[38;5;241;43m*\u001B[39;49m\u001B[43margs\u001B[49m\u001B[43m,\u001B[49m\u001B[43m \u001B[49m\u001B[38;5;241;43m*\u001B[39;49m\u001B[38;5;241;43m*\u001B[39;49m\u001B[43mkwargs\u001B[49m\u001B[43m)\u001B[49m\n",
       "\u001B[1;32m     30\u001B[0m     original_succeeded \u001B[38;5;241m=\u001B[39m \u001B[38;5;28;01mTrue\u001B[39;00m\n",
       "\u001B[1;32m     31\u001B[0m     \u001B[38;5;28;01mreturn\u001B[39;00m original_result\n",
       "\n",
       "File \u001B[0;32m/databricks/python/lib/python3.9/site-packages/sklearn/linear_model/_base.py:662\u001B[0m, in \u001B[0;36mLinearRegression.fit\u001B[0;34m(self, X, y, sample_weight)\u001B[0m\n",
       "\u001B[1;32m    658\u001B[0m n_jobs_ \u001B[38;5;241m=\u001B[39m \u001B[38;5;28mself\u001B[39m\u001B[38;5;241m.\u001B[39mn_jobs\n",
       "\u001B[1;32m    660\u001B[0m accept_sparse \u001B[38;5;241m=\u001B[39m \u001B[38;5;28;01mFalse\u001B[39;00m \u001B[38;5;28;01mif\u001B[39;00m \u001B[38;5;28mself\u001B[39m\u001B[38;5;241m.\u001B[39mpositive \u001B[38;5;28;01melse\u001B[39;00m [\u001B[38;5;124m\"\u001B[39m\u001B[38;5;124mcsr\u001B[39m\u001B[38;5;124m\"\u001B[39m, \u001B[38;5;124m\"\u001B[39m\u001B[38;5;124mcsc\u001B[39m\u001B[38;5;124m\"\u001B[39m, \u001B[38;5;124m\"\u001B[39m\u001B[38;5;124mcoo\u001B[39m\u001B[38;5;124m\"\u001B[39m]\n",
       "\u001B[0;32m--> 662\u001B[0m X, y \u001B[38;5;241m=\u001B[39m \u001B[38;5;28;43mself\u001B[39;49m\u001B[38;5;241;43m.\u001B[39;49m\u001B[43m_validate_data\u001B[49m\u001B[43m(\u001B[49m\n",
       "\u001B[1;32m    663\u001B[0m \u001B[43m    \u001B[49m\u001B[43mX\u001B[49m\u001B[43m,\u001B[49m\u001B[43m \u001B[49m\u001B[43my\u001B[49m\u001B[43m,\u001B[49m\u001B[43m \u001B[49m\u001B[43maccept_sparse\u001B[49m\u001B[38;5;241;43m=\u001B[39;49m\u001B[43maccept_sparse\u001B[49m\u001B[43m,\u001B[49m\u001B[43m \u001B[49m\u001B[43my_numeric\u001B[49m\u001B[38;5;241;43m=\u001B[39;49m\u001B[38;5;28;43;01mTrue\u001B[39;49;00m\u001B[43m,\u001B[49m\u001B[43m \u001B[49m\u001B[43mmulti_output\u001B[49m\u001B[38;5;241;43m=\u001B[39;49m\u001B[38;5;28;43;01mTrue\u001B[39;49;00m\n",
       "\u001B[1;32m    664\u001B[0m \u001B[43m\u001B[49m\u001B[43m)\u001B[49m\n",
       "\u001B[1;32m    666\u001B[0m \u001B[38;5;28;01mif\u001B[39;00m sample_weight \u001B[38;5;129;01mis\u001B[39;00m \u001B[38;5;129;01mnot\u001B[39;00m \u001B[38;5;28;01mNone\u001B[39;00m:\n",
       "\u001B[1;32m    667\u001B[0m     sample_weight \u001B[38;5;241m=\u001B[39m _check_sample_weight(sample_weight, X, dtype\u001B[38;5;241m=\u001B[39mX\u001B[38;5;241m.\u001B[39mdtype)\n",
       "\n",
       "File \u001B[0;32m/databricks/python/lib/python3.9/site-packages/sklearn/base.py:581\u001B[0m, in \u001B[0;36mBaseEstimator._validate_data\u001B[0;34m(self, X, y, reset, validate_separately, **check_params)\u001B[0m\n",
       "\u001B[1;32m    579\u001B[0m         y \u001B[38;5;241m=\u001B[39m check_array(y, \u001B[38;5;241m*\u001B[39m\u001B[38;5;241m*\u001B[39mcheck_y_params)\n",
       "\u001B[1;32m    580\u001B[0m     \u001B[38;5;28;01melse\u001B[39;00m:\n",
       "\u001B[0;32m--> 581\u001B[0m         X, y \u001B[38;5;241m=\u001B[39m \u001B[43mcheck_X_y\u001B[49m\u001B[43m(\u001B[49m\u001B[43mX\u001B[49m\u001B[43m,\u001B[49m\u001B[43m \u001B[49m\u001B[43my\u001B[49m\u001B[43m,\u001B[49m\u001B[43m \u001B[49m\u001B[38;5;241;43m*\u001B[39;49m\u001B[38;5;241;43m*\u001B[39;49m\u001B[43mcheck_params\u001B[49m\u001B[43m)\u001B[49m\n",
       "\u001B[1;32m    582\u001B[0m     out \u001B[38;5;241m=\u001B[39m X, y\n",
       "\u001B[1;32m    584\u001B[0m \u001B[38;5;28;01mif\u001B[39;00m \u001B[38;5;129;01mnot\u001B[39;00m no_val_X \u001B[38;5;129;01mand\u001B[39;00m check_params\u001B[38;5;241m.\u001B[39mget(\u001B[38;5;124m\"\u001B[39m\u001B[38;5;124mensure_2d\u001B[39m\u001B[38;5;124m\"\u001B[39m, \u001B[38;5;28;01mTrue\u001B[39;00m):\n",
       "\n",
       "File \u001B[0;32m/databricks/python/lib/python3.9/site-packages/sklearn/utils/validation.py:964\u001B[0m, in \u001B[0;36mcheck_X_y\u001B[0;34m(X, y, accept_sparse, accept_large_sparse, dtype, order, copy, force_all_finite, ensure_2d, allow_nd, multi_output, ensure_min_samples, ensure_min_features, y_numeric, estimator)\u001B[0m\n",
       "\u001B[1;32m    961\u001B[0m \u001B[38;5;28;01mif\u001B[39;00m y \u001B[38;5;129;01mis\u001B[39;00m \u001B[38;5;28;01mNone\u001B[39;00m:\n",
       "\u001B[1;32m    962\u001B[0m     \u001B[38;5;28;01mraise\u001B[39;00m \u001B[38;5;167;01mValueError\u001B[39;00m(\u001B[38;5;124m\"\u001B[39m\u001B[38;5;124my cannot be None\u001B[39m\u001B[38;5;124m\"\u001B[39m)\n",
       "\u001B[0;32m--> 964\u001B[0m X \u001B[38;5;241m=\u001B[39m \u001B[43mcheck_array\u001B[49m\u001B[43m(\u001B[49m\n",
       "\u001B[1;32m    965\u001B[0m \u001B[43m    \u001B[49m\u001B[43mX\u001B[49m\u001B[43m,\u001B[49m\n",
       "\u001B[1;32m    966\u001B[0m \u001B[43m    \u001B[49m\u001B[43maccept_sparse\u001B[49m\u001B[38;5;241;43m=\u001B[39;49m\u001B[43maccept_sparse\u001B[49m\u001B[43m,\u001B[49m\n",
       "\u001B[1;32m    967\u001B[0m \u001B[43m    \u001B[49m\u001B[43maccept_large_sparse\u001B[49m\u001B[38;5;241;43m=\u001B[39;49m\u001B[43maccept_large_sparse\u001B[49m\u001B[43m,\u001B[49m\n",
       "\u001B[1;32m    968\u001B[0m \u001B[43m    \u001B[49m\u001B[43mdtype\u001B[49m\u001B[38;5;241;43m=\u001B[39;49m\u001B[43mdtype\u001B[49m\u001B[43m,\u001B[49m\n",
       "\u001B[1;32m    969\u001B[0m \u001B[43m    \u001B[49m\u001B[43morder\u001B[49m\u001B[38;5;241;43m=\u001B[39;49m\u001B[43morder\u001B[49m\u001B[43m,\u001B[49m\n",
       "\u001B[1;32m    970\u001B[0m \u001B[43m    \u001B[49m\u001B[43mcopy\u001B[49m\u001B[38;5;241;43m=\u001B[39;49m\u001B[43mcopy\u001B[49m\u001B[43m,\u001B[49m\n",
       "\u001B[1;32m    971\u001B[0m \u001B[43m    \u001B[49m\u001B[43mforce_all_finite\u001B[49m\u001B[38;5;241;43m=\u001B[39;49m\u001B[43mforce_all_finite\u001B[49m\u001B[43m,\u001B[49m\n",
       "\u001B[1;32m    972\u001B[0m \u001B[43m    \u001B[49m\u001B[43mensure_2d\u001B[49m\u001B[38;5;241;43m=\u001B[39;49m\u001B[43mensure_2d\u001B[49m\u001B[43m,\u001B[49m\n",
       "\u001B[1;32m    973\u001B[0m \u001B[43m    \u001B[49m\u001B[43mallow_nd\u001B[49m\u001B[38;5;241;43m=\u001B[39;49m\u001B[43mallow_nd\u001B[49m\u001B[43m,\u001B[49m\n",
       "\u001B[1;32m    974\u001B[0m \u001B[43m    \u001B[49m\u001B[43mensure_min_samples\u001B[49m\u001B[38;5;241;43m=\u001B[39;49m\u001B[43mensure_min_samples\u001B[49m\u001B[43m,\u001B[49m\n",
       "\u001B[1;32m    975\u001B[0m \u001B[43m    \u001B[49m\u001B[43mensure_min_features\u001B[49m\u001B[38;5;241;43m=\u001B[39;49m\u001B[43mensure_min_features\u001B[49m\u001B[43m,\u001B[49m\n",
       "\u001B[1;32m    976\u001B[0m \u001B[43m    \u001B[49m\u001B[43mestimator\u001B[49m\u001B[38;5;241;43m=\u001B[39;49m\u001B[43mestimator\u001B[49m\u001B[43m,\u001B[49m\n",
       "\u001B[1;32m    977\u001B[0m \u001B[43m\u001B[49m\u001B[43m)\u001B[49m\n",
       "\u001B[1;32m    979\u001B[0m y \u001B[38;5;241m=\u001B[39m _check_y(y, multi_output\u001B[38;5;241m=\u001B[39mmulti_output, y_numeric\u001B[38;5;241m=\u001B[39my_numeric)\n",
       "\u001B[1;32m    981\u001B[0m check_consistent_length(X, y)\n",
       "\n",
       "File \u001B[0;32m/databricks/python/lib/python3.9/site-packages/sklearn/utils/validation.py:789\u001B[0m, in \u001B[0;36mcheck_array\u001B[0;34m(array, accept_sparse, accept_large_sparse, dtype, order, copy, force_all_finite, ensure_2d, allow_nd, ensure_min_samples, ensure_min_features, estimator)\u001B[0m\n",
       "\u001B[1;32m    787\u001B[0m         array \u001B[38;5;241m=\u001B[39m array\u001B[38;5;241m.\u001B[39mastype(np\u001B[38;5;241m.\u001B[39mfloat64)\n",
       "\u001B[1;32m    788\u001B[0m     \u001B[38;5;28;01mexcept\u001B[39;00m \u001B[38;5;167;01mValueError\u001B[39;00m \u001B[38;5;28;01mas\u001B[39;00m e:\n",
       "\u001B[0;32m--> 789\u001B[0m         \u001B[38;5;28;01mraise\u001B[39;00m \u001B[38;5;167;01mValueError\u001B[39;00m(\n",
       "\u001B[1;32m    790\u001B[0m             \u001B[38;5;124m\"\u001B[39m\u001B[38;5;124mUnable to convert array of bytes/strings \u001B[39m\u001B[38;5;124m\"\u001B[39m\n",
       "\u001B[1;32m    791\u001B[0m             \u001B[38;5;124m\"\u001B[39m\u001B[38;5;124minto decimal numbers with dtype=\u001B[39m\u001B[38;5;124m'\u001B[39m\u001B[38;5;124mnumeric\u001B[39m\u001B[38;5;124m'\u001B[39m\u001B[38;5;124m\"\u001B[39m\n",
       "\u001B[1;32m    792\u001B[0m         ) \u001B[38;5;28;01mfrom\u001B[39;00m \u001B[38;5;21;01me\u001B[39;00m\n",
       "\u001B[1;32m    793\u001B[0m \u001B[38;5;28;01mif\u001B[39;00m \u001B[38;5;129;01mnot\u001B[39;00m allow_nd \u001B[38;5;129;01mand\u001B[39;00m array\u001B[38;5;241m.\u001B[39mndim \u001B[38;5;241m>\u001B[39m\u001B[38;5;241m=\u001B[39m \u001B[38;5;241m3\u001B[39m:\n",
       "\u001B[1;32m    794\u001B[0m     \u001B[38;5;28;01mraise\u001B[39;00m \u001B[38;5;167;01mValueError\u001B[39;00m(\n",
       "\u001B[1;32m    795\u001B[0m         \u001B[38;5;124m\"\u001B[39m\u001B[38;5;124mFound array with dim \u001B[39m\u001B[38;5;132;01m%d\u001B[39;00m\u001B[38;5;124m. \u001B[39m\u001B[38;5;132;01m%s\u001B[39;00m\u001B[38;5;124m expected <= 2.\u001B[39m\u001B[38;5;124m\"\u001B[39m\n",
       "\u001B[1;32m    796\u001B[0m         \u001B[38;5;241m%\u001B[39m (array\u001B[38;5;241m.\u001B[39mndim, estimator_name)\n",
       "\u001B[1;32m    797\u001B[0m     )\n",
       "\n",
       "\u001B[0;31mValueError\u001B[0m: Unable to convert array of bytes/strings into decimal numbers with dtype='numeric'"
      ]
     },
     "metadata": {
      "application/vnd.databricks.v1+output": {
       "arguments": {},
       "data": "\u001B[0;31m---------------------------------------------------------------------------\u001B[0m\n\u001B[0;31mValueError\u001B[0m                                Traceback (most recent call last)\nFile \u001B[0;32m/databricks/python/lib/python3.9/site-packages/sklearn/utils/validation.py:787\u001B[0m, in \u001B[0;36mcheck_array\u001B[0;34m(array, accept_sparse, accept_large_sparse, dtype, order, copy, force_all_finite, ensure_2d, allow_nd, ensure_min_samples, ensure_min_features, estimator)\u001B[0m\n\u001B[1;32m    786\u001B[0m \u001B[38;5;28;01mtry\u001B[39;00m:\n\u001B[0;32m--> 787\u001B[0m     array \u001B[38;5;241m=\u001B[39m \u001B[43marray\u001B[49m\u001B[38;5;241;43m.\u001B[39;49m\u001B[43mastype\u001B[49m\u001B[43m(\u001B[49m\u001B[43mnp\u001B[49m\u001B[38;5;241;43m.\u001B[39;49m\u001B[43mfloat64\u001B[49m\u001B[43m)\u001B[49m\n\u001B[1;32m    788\u001B[0m \u001B[38;5;28;01mexcept\u001B[39;00m \u001B[38;5;167;01mValueError\u001B[39;00m \u001B[38;5;28;01mas\u001B[39;00m e:\n\n\u001B[0;31mValueError\u001B[0m: could not convert string to float: ' Tim Meadows'\n\nThe above exception was the direct cause of the following exception:\n\n\u001B[0;31mValueError\u001B[0m                                Traceback (most recent call last)\nFile \u001B[0;32m<command-1071113111622439>:14\u001B[0m\n\u001B[1;32m     12\u001B[0m \u001B[38;5;66;03m# Initialize and train the model\u001B[39;00m\n\u001B[1;32m     13\u001B[0m model \u001B[38;5;241m=\u001B[39m LinearRegression()\n\u001B[0;32m---> 14\u001B[0m model\u001B[38;5;241m.\u001B[39mfit(X_train, y_train)\n\u001B[1;32m     16\u001B[0m \u001B[38;5;66;03m# Evaluate the model's performance on the test set\u001B[39;00m\n\u001B[1;32m     17\u001B[0m predicted \u001B[38;5;241m=\u001B[39m model\u001B[38;5;241m.\u001B[39mpredict(X_test)\n\nFile \u001B[0;32m/databricks/python_shell/dbruntime/MLWorkloadsInstrumentation/_sklearn.py:29\u001B[0m, in \u001B[0;36m_create_patch_function.<locals>.patch_function\u001B[0;34m(self, *args, **kwargs)\u001B[0m\n\u001B[1;32m     27\u001B[0m \u001B[38;5;28;01mtry\u001B[39;00m:\n\u001B[1;32m     28\u001B[0m     original_succeeded \u001B[38;5;241m=\u001B[39m \u001B[38;5;28;01mFalse\u001B[39;00m\n\u001B[0;32m---> 29\u001B[0m     original_result \u001B[38;5;241m=\u001B[39m \u001B[43moriginal\u001B[49m\u001B[43m(\u001B[49m\u001B[38;5;28;43mself\u001B[39;49m\u001B[43m,\u001B[49m\u001B[43m \u001B[49m\u001B[38;5;241;43m*\u001B[39;49m\u001B[43margs\u001B[49m\u001B[43m,\u001B[49m\u001B[43m \u001B[49m\u001B[38;5;241;43m*\u001B[39;49m\u001B[38;5;241;43m*\u001B[39;49m\u001B[43mkwargs\u001B[49m\u001B[43m)\u001B[49m\n\u001B[1;32m     30\u001B[0m     original_succeeded \u001B[38;5;241m=\u001B[39m \u001B[38;5;28;01mTrue\u001B[39;00m\n\u001B[1;32m     31\u001B[0m     \u001B[38;5;28;01mreturn\u001B[39;00m original_result\n\nFile \u001B[0;32m/databricks/python/lib/python3.9/site-packages/sklearn/linear_model/_base.py:662\u001B[0m, in \u001B[0;36mLinearRegression.fit\u001B[0;34m(self, X, y, sample_weight)\u001B[0m\n\u001B[1;32m    658\u001B[0m n_jobs_ \u001B[38;5;241m=\u001B[39m \u001B[38;5;28mself\u001B[39m\u001B[38;5;241m.\u001B[39mn_jobs\n\u001B[1;32m    660\u001B[0m accept_sparse \u001B[38;5;241m=\u001B[39m \u001B[38;5;28;01mFalse\u001B[39;00m \u001B[38;5;28;01mif\u001B[39;00m \u001B[38;5;28mself\u001B[39m\u001B[38;5;241m.\u001B[39mpositive \u001B[38;5;28;01melse\u001B[39;00m [\u001B[38;5;124m\"\u001B[39m\u001B[38;5;124mcsr\u001B[39m\u001B[38;5;124m\"\u001B[39m, \u001B[38;5;124m\"\u001B[39m\u001B[38;5;124mcsc\u001B[39m\u001B[38;5;124m\"\u001B[39m, \u001B[38;5;124m\"\u001B[39m\u001B[38;5;124mcoo\u001B[39m\u001B[38;5;124m\"\u001B[39m]\n\u001B[0;32m--> 662\u001B[0m X, y \u001B[38;5;241m=\u001B[39m \u001B[38;5;28;43mself\u001B[39;49m\u001B[38;5;241;43m.\u001B[39;49m\u001B[43m_validate_data\u001B[49m\u001B[43m(\u001B[49m\n\u001B[1;32m    663\u001B[0m \u001B[43m    \u001B[49m\u001B[43mX\u001B[49m\u001B[43m,\u001B[49m\u001B[43m \u001B[49m\u001B[43my\u001B[49m\u001B[43m,\u001B[49m\u001B[43m \u001B[49m\u001B[43maccept_sparse\u001B[49m\u001B[38;5;241;43m=\u001B[39;49m\u001B[43maccept_sparse\u001B[49m\u001B[43m,\u001B[49m\u001B[43m \u001B[49m\u001B[43my_numeric\u001B[49m\u001B[38;5;241;43m=\u001B[39;49m\u001B[38;5;28;43;01mTrue\u001B[39;49;00m\u001B[43m,\u001B[49m\u001B[43m \u001B[49m\u001B[43mmulti_output\u001B[49m\u001B[38;5;241;43m=\u001B[39;49m\u001B[38;5;28;43;01mTrue\u001B[39;49;00m\n\u001B[1;32m    664\u001B[0m \u001B[43m\u001B[49m\u001B[43m)\u001B[49m\n\u001B[1;32m    666\u001B[0m \u001B[38;5;28;01mif\u001B[39;00m sample_weight \u001B[38;5;129;01mis\u001B[39;00m \u001B[38;5;129;01mnot\u001B[39;00m \u001B[38;5;28;01mNone\u001B[39;00m:\n\u001B[1;32m    667\u001B[0m     sample_weight \u001B[38;5;241m=\u001B[39m _check_sample_weight(sample_weight, X, dtype\u001B[38;5;241m=\u001B[39mX\u001B[38;5;241m.\u001B[39mdtype)\n\nFile \u001B[0;32m/databricks/python/lib/python3.9/site-packages/sklearn/base.py:581\u001B[0m, in \u001B[0;36mBaseEstimator._validate_data\u001B[0;34m(self, X, y, reset, validate_separately, **check_params)\u001B[0m\n\u001B[1;32m    579\u001B[0m         y \u001B[38;5;241m=\u001B[39m check_array(y, \u001B[38;5;241m*\u001B[39m\u001B[38;5;241m*\u001B[39mcheck_y_params)\n\u001B[1;32m    580\u001B[0m     \u001B[38;5;28;01melse\u001B[39;00m:\n\u001B[0;32m--> 581\u001B[0m         X, y \u001B[38;5;241m=\u001B[39m \u001B[43mcheck_X_y\u001B[49m\u001B[43m(\u001B[49m\u001B[43mX\u001B[49m\u001B[43m,\u001B[49m\u001B[43m \u001B[49m\u001B[43my\u001B[49m\u001B[43m,\u001B[49m\u001B[43m \u001B[49m\u001B[38;5;241;43m*\u001B[39;49m\u001B[38;5;241;43m*\u001B[39;49m\u001B[43mcheck_params\u001B[49m\u001B[43m)\u001B[49m\n\u001B[1;32m    582\u001B[0m     out \u001B[38;5;241m=\u001B[39m X, y\n\u001B[1;32m    584\u001B[0m \u001B[38;5;28;01mif\u001B[39;00m \u001B[38;5;129;01mnot\u001B[39;00m no_val_X \u001B[38;5;129;01mand\u001B[39;00m check_params\u001B[38;5;241m.\u001B[39mget(\u001B[38;5;124m\"\u001B[39m\u001B[38;5;124mensure_2d\u001B[39m\u001B[38;5;124m\"\u001B[39m, \u001B[38;5;28;01mTrue\u001B[39;00m):\n\nFile \u001B[0;32m/databricks/python/lib/python3.9/site-packages/sklearn/utils/validation.py:964\u001B[0m, in \u001B[0;36mcheck_X_y\u001B[0;34m(X, y, accept_sparse, accept_large_sparse, dtype, order, copy, force_all_finite, ensure_2d, allow_nd, multi_output, ensure_min_samples, ensure_min_features, y_numeric, estimator)\u001B[0m\n\u001B[1;32m    961\u001B[0m \u001B[38;5;28;01mif\u001B[39;00m y \u001B[38;5;129;01mis\u001B[39;00m \u001B[38;5;28;01mNone\u001B[39;00m:\n\u001B[1;32m    962\u001B[0m     \u001B[38;5;28;01mraise\u001B[39;00m \u001B[38;5;167;01mValueError\u001B[39;00m(\u001B[38;5;124m\"\u001B[39m\u001B[38;5;124my cannot be None\u001B[39m\u001B[38;5;124m\"\u001B[39m)\n\u001B[0;32m--> 964\u001B[0m X \u001B[38;5;241m=\u001B[39m \u001B[43mcheck_array\u001B[49m\u001B[43m(\u001B[49m\n\u001B[1;32m    965\u001B[0m \u001B[43m    \u001B[49m\u001B[43mX\u001B[49m\u001B[43m,\u001B[49m\n\u001B[1;32m    966\u001B[0m \u001B[43m    \u001B[49m\u001B[43maccept_sparse\u001B[49m\u001B[38;5;241;43m=\u001B[39;49m\u001B[43maccept_sparse\u001B[49m\u001B[43m,\u001B[49m\n\u001B[1;32m    967\u001B[0m \u001B[43m    \u001B[49m\u001B[43maccept_large_sparse\u001B[49m\u001B[38;5;241;43m=\u001B[39;49m\u001B[43maccept_large_sparse\u001B[49m\u001B[43m,\u001B[49m\n\u001B[1;32m    968\u001B[0m \u001B[43m    \u001B[49m\u001B[43mdtype\u001B[49m\u001B[38;5;241;43m=\u001B[39;49m\u001B[43mdtype\u001B[49m\u001B[43m,\u001B[49m\n\u001B[1;32m    969\u001B[0m \u001B[43m    \u001B[49m\u001B[43morder\u001B[49m\u001B[38;5;241;43m=\u001B[39;49m\u001B[43morder\u001B[49m\u001B[43m,\u001B[49m\n\u001B[1;32m    970\u001B[0m \u001B[43m    \u001B[49m\u001B[43mcopy\u001B[49m\u001B[38;5;241;43m=\u001B[39;49m\u001B[43mcopy\u001B[49m\u001B[43m,\u001B[49m\n\u001B[1;32m    971\u001B[0m \u001B[43m    \u001B[49m\u001B[43mforce_all_finite\u001B[49m\u001B[38;5;241;43m=\u001B[39;49m\u001B[43mforce_all_finite\u001B[49m\u001B[43m,\u001B[49m\n\u001B[1;32m    972\u001B[0m \u001B[43m    \u001B[49m\u001B[43mensure_2d\u001B[49m\u001B[38;5;241;43m=\u001B[39;49m\u001B[43mensure_2d\u001B[49m\u001B[43m,\u001B[49m\n\u001B[1;32m    973\u001B[0m \u001B[43m    \u001B[49m\u001B[43mallow_nd\u001B[49m\u001B[38;5;241;43m=\u001B[39;49m\u001B[43mallow_nd\u001B[49m\u001B[43m,\u001B[49m\n\u001B[1;32m    974\u001B[0m \u001B[43m    \u001B[49m\u001B[43mensure_min_samples\u001B[49m\u001B[38;5;241;43m=\u001B[39;49m\u001B[43mensure_min_samples\u001B[49m\u001B[43m,\u001B[49m\n\u001B[1;32m    975\u001B[0m \u001B[43m    \u001B[49m\u001B[43mensure_min_features\u001B[49m\u001B[38;5;241;43m=\u001B[39;49m\u001B[43mensure_min_features\u001B[49m\u001B[43m,\u001B[49m\n\u001B[1;32m    976\u001B[0m \u001B[43m    \u001B[49m\u001B[43mestimator\u001B[49m\u001B[38;5;241;43m=\u001B[39;49m\u001B[43mestimator\u001B[49m\u001B[43m,\u001B[49m\n\u001B[1;32m    977\u001B[0m \u001B[43m\u001B[49m\u001B[43m)\u001B[49m\n\u001B[1;32m    979\u001B[0m y \u001B[38;5;241m=\u001B[39m _check_y(y, multi_output\u001B[38;5;241m=\u001B[39mmulti_output, y_numeric\u001B[38;5;241m=\u001B[39my_numeric)\n\u001B[1;32m    981\u001B[0m check_consistent_length(X, y)\n\nFile \u001B[0;32m/databricks/python/lib/python3.9/site-packages/sklearn/utils/validation.py:789\u001B[0m, in \u001B[0;36mcheck_array\u001B[0;34m(array, accept_sparse, accept_large_sparse, dtype, order, copy, force_all_finite, ensure_2d, allow_nd, ensure_min_samples, ensure_min_features, estimator)\u001B[0m\n\u001B[1;32m    787\u001B[0m         array \u001B[38;5;241m=\u001B[39m array\u001B[38;5;241m.\u001B[39mastype(np\u001B[38;5;241m.\u001B[39mfloat64)\n\u001B[1;32m    788\u001B[0m     \u001B[38;5;28;01mexcept\u001B[39;00m \u001B[38;5;167;01mValueError\u001B[39;00m \u001B[38;5;28;01mas\u001B[39;00m e:\n\u001B[0;32m--> 789\u001B[0m         \u001B[38;5;28;01mraise\u001B[39;00m \u001B[38;5;167;01mValueError\u001B[39;00m(\n\u001B[1;32m    790\u001B[0m             \u001B[38;5;124m\"\u001B[39m\u001B[38;5;124mUnable to convert array of bytes/strings \u001B[39m\u001B[38;5;124m\"\u001B[39m\n\u001B[1;32m    791\u001B[0m             \u001B[38;5;124m\"\u001B[39m\u001B[38;5;124minto decimal numbers with dtype=\u001B[39m\u001B[38;5;124m'\u001B[39m\u001B[38;5;124mnumeric\u001B[39m\u001B[38;5;124m'\u001B[39m\u001B[38;5;124m\"\u001B[39m\n\u001B[1;32m    792\u001B[0m         ) \u001B[38;5;28;01mfrom\u001B[39;00m \u001B[38;5;21;01me\u001B[39;00m\n\u001B[1;32m    793\u001B[0m \u001B[38;5;28;01mif\u001B[39;00m \u001B[38;5;129;01mnot\u001B[39;00m allow_nd \u001B[38;5;129;01mand\u001B[39;00m array\u001B[38;5;241m.\u001B[39mndim \u001B[38;5;241m>\u001B[39m\u001B[38;5;241m=\u001B[39m \u001B[38;5;241m3\u001B[39m:\n\u001B[1;32m    794\u001B[0m     \u001B[38;5;28;01mraise\u001B[39;00m \u001B[38;5;167;01mValueError\u001B[39;00m(\n\u001B[1;32m    795\u001B[0m         \u001B[38;5;124m\"\u001B[39m\u001B[38;5;124mFound array with dim \u001B[39m\u001B[38;5;132;01m%d\u001B[39;00m\u001B[38;5;124m. \u001B[39m\u001B[38;5;132;01m%s\u001B[39;00m\u001B[38;5;124m expected <= 2.\u001B[39m\u001B[38;5;124m\"\u001B[39m\n\u001B[1;32m    796\u001B[0m         \u001B[38;5;241m%\u001B[39m (array\u001B[38;5;241m.\u001B[39mndim, estimator_name)\n\u001B[1;32m    797\u001B[0m     )\n\n\u001B[0;31mValueError\u001B[0m: Unable to convert array of bytes/strings into decimal numbers with dtype='numeric'",
       "errorSummary": "<span class='ansi-red-fg'>ValueError</span>: Unable to convert array of bytes/strings into decimal numbers with dtype='numeric'",
       "errorTraceType": "ansi",
       "metadata": {},
       "type": "ipynbError"
      }
     },
     "output_type": "display_data"
    }
   ],
   "source": [
    "from sklearn.feature_extraction.text import TfidfVectorizer\n",
    "from sklearn.model_selection import train_test_split\n",
    "from sklearn.linear_model import LinearRegression\n",
    "from sklearn.metrics import mean_squared_error\n",
    "\n",
    "X_combined = np.array(X_combined) if isinstance(X_combined, float) else X_combined\n",
    "y_trimmed = np.array(y_trimmed) if isinstance(y_trimmed, float) else y_trimmed\n",
    "\n",
    "# Split the dataset into training and testing sets (e.g., 80-20 split)\n",
    "X_train, X_test, y_train, y_test = train_test_split(X_combined, y_trimmed, test_size=0.2, random_state=42)\n",
    "\n",
    "# Initialize and train the model\n",
    "model = LinearRegression()\n",
    "model.fit(X_train, y_train)\n",
    "\n",
    "# Evaluate the model's performance on the test set\n",
    "predicted = model.predict(X_test)\n",
    "mse = mean_squared_error(y_test, predicted)\n",
    "print(\"Mean Squared Error:\", mse)"
   ]
  }
 ],
 "metadata": {
  "application/vnd.databricks.v1+notebook": {
   "dashboards": [],
   "language": "python",
   "notebookMetadata": {
    "mostRecentlyExecutedCommandWithImplicitDF": {
     "commandId": 1071113111622435,
     "dataframes": [
      "_sqldf"
     ]
    },
    "pythonIndentUnit": 4
   },
   "notebookName": "Youtube Title Analysis",
   "widgets": {}
  }
 },
 "nbformat": 4,
 "nbformat_minor": 0
}
